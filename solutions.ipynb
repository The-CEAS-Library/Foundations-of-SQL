{
  "cells": [
    {
      "cell_type": "markdown",
      "source": [
        "## **The following cell has some required code to run to get SQL to work on this notebook so be sure to follow along!**"
      ],
      "metadata": {
        "id": "jFCi26auEjeM"
      }
    },
    {
      "cell_type": "markdown",
      "source": [
        "'%' and '%%'' are indicators for magic functions, load_ext allows us to grab an external library not already supported and load it in for use.\n",
        "\n",
        "We use the 'npx degit' line to grab our database files from their folder location and insert them into a new folder on colab titled Data. Alternatively instead of 'Data', we  can use -f to download directly to the content folder (default location) of colab.\n",
        "\n",
        "*npx is a call to run a binary from npm, in our case degit. degit is a depth git call to clone a folder within a repository*\n",
        "\n",
        "Now that we have our databases are loaded in we use the commands on the last two lines to select the database we wish to use. The last selection is the database that is active."
      ],
      "metadata": {
        "id": "QW0iH5FAEp1S"
      }
    },
    {
      "cell_type": "code",
      "execution_count": null,
      "metadata": {
        "id": "CMJA4JAGYwvN"
      },
      "outputs": [],
      "source": [
        "%load_ext sql\n",
        "!npx degit The-CEAS-Library/Foundations-of-SQL/Databases Data\n",
        "%sql sqlite:////content/Data/weather_stations.db\n",
        "%sql sqlite:////content/Data/rexon_metals.db"
      ]
    },
    {
      "cell_type": "markdown",
      "metadata": {
        "id": "lA4MGKZKYwvT"
      },
      "source": [
        "# Exercise 1\n",
        "Write a SQL query to select the columns dew_point, station_pressure, visibility and create a new column that has the wind_speed in terms of meters per second upto one decimal \\\n",
        "- **Hint**: wind_speed_mps = wind_speed*3.6"
      ]
    },
    {
      "cell_type": "markdown",
      "metadata": {
        "id": "doVyqIRHc_lP"
      },
      "source": [
        "Solution to Exercise 1"
      ]
    },
    {
      "cell_type": "code",
      "execution_count": null,
      "metadata": {
        "id": "s3gurX0mYwvW"
      },
      "outputs": [],
      "source": [
        "%%sql sqlite:////content/Data/weather_stations.db\n",
        "SELECT dew_point, station_pressure, visibility, wind_speed*3.6 AS wind_speed_mps\n",
        "FROM station_data"
      ]
    },
    {
      "cell_type": "markdown",
      "metadata": {
        "id": "BypL3oLyYwvf"
      },
      "source": [
        "# Exercise 2\n",
        "Write a SQL query to find the present date by adding your AGE in years, months, and days to your birthyear.\n",
        "\n",
        "- **Hint**: SELECT DATE('YYYY-MM-DD','+AGE year' ,'+no.of month','+no.of day')"
      ]
    },
    {
      "cell_type": "markdown",
      "metadata": {
        "id": "Yh35G1xZc7YM"
      },
      "source": [
        "Solution to Exercise 2:"
      ]
    },
    {
      "cell_type": "code",
      "execution_count": null,
      "metadata": {
        "id": "imWr8iigYwvf"
      },
      "outputs": [],
      "source": [
        "%%sql\n",
        "SELECT DATE('1994-11-24', '+29 year', '+4 month', '+10 day')\n",
        "-- this output will get 2024-4-3"
      ]
    },
    {
      "cell_type": "markdown",
      "metadata": {
        "id": "97KRunfEYwvj"
      },
      "source": [
        "# Exercise 3\n",
        "#### Data Workflows and Automation\n",
        "\n",
        "$\\;\\;\\;\\;\\;\\;\\;\\;$ a. Write a SQL query to filter all records data between year 2009 and 2012 \\\n",
        "$\\;\\;\\;\\;\\;\\;\\;\\;$ b. Write a SQL query to filter data from the month of May and October of every year \\\n",
        "$\\;\\;\\;\\;\\;\\;\\;\\;$ c. write a SQL query to filter data where every report_code starts with letter 'C' and has third letter as '9'"
      ]
    },
    {
      "cell_type": "markdown",
      "metadata": {
        "id": "os3weMOHdDoj"
      },
      "source": [
        "Possible Solutions to Exercise 3a:"
      ]
    },
    {
      "cell_type": "code",
      "execution_count": null,
      "metadata": {
        "id": "6IzGnLwZc4DU"
      },
      "outputs": [],
      "source": [
        "%%sql sqlite:////content/Data/weather_stations.db\n",
        "SELECT * FROM station_data\n",
        "WHERE year BETWEEN 2009 and 2012"
      ]
    },
    {
      "cell_type": "code",
      "source": [
        "%%sql sqlite:////content/Data/weather_stations.db\n",
        "SELECT * FROM station_data\n",
        "WHERE year >= 2009 and year <= 2012"
      ],
      "metadata": {
        "id": "f_z_LT2Ggi7L"
      },
      "execution_count": null,
      "outputs": []
    },
    {
      "cell_type": "code",
      "source": [
        "%%sql sqlite:////content/Data/weather_stations.db\n",
        "SELECT * FROM station_data\n",
        "WHERE year in (2009, 2010, 2011, 2012)"
      ],
      "metadata": {
        "id": "P3Dt7Kupgrqz"
      },
      "execution_count": null,
      "outputs": []
    },
    {
      "cell_type": "markdown",
      "metadata": {
        "id": "QjLYtEgudEKQ"
      },
      "source": [
        "Solution to Exercise 3b:"
      ]
    },
    {
      "cell_type": "code",
      "execution_count": null,
      "metadata": {
        "id": "y97yUGQJc37q"
      },
      "outputs": [],
      "source": [
        "%%sql sqlite:////content/Data/weather_stations.db\n",
        "SELECT * FROM station_data\n",
        "WHERE month IN (5, 10)"
      ]
    },
    {
      "cell_type": "code",
      "source": [
        "%%sql sqlite:////content/Data/weather_stations.db\n",
        "SELECT * FROM station_data\n",
        "WHERE month = 5 or month = 10"
      ],
      "metadata": {
        "id": "rRFExA_lgy44"
      },
      "execution_count": null,
      "outputs": []
    },
    {
      "cell_type": "code",
      "source": [
        "%%sql sqlite:////content/Data/weather_stations.db\n",
        "SELECT * FROM station_data\n",
        "WHERE month % 5 = 0"
      ],
      "metadata": {
        "id": "ZcHfHRBZgykK"
      },
      "execution_count": null,
      "outputs": []
    },
    {
      "cell_type": "markdown",
      "metadata": {
        "id": "rCflh62ndEok"
      },
      "source": [
        "Solution to Exercise 3c:"
      ]
    },
    {
      "cell_type": "code",
      "execution_count": null,
      "metadata": {
        "id": "z1dPBWZDc3yr"
      },
      "outputs": [],
      "source": [
        "%%sql sqlite:////content/Data/weather_stations.db\n",
        "SELECT * FROM station_data\n",
        "WHERE report_code LIKE 'C_9%'"
      ]
    },
    {
      "cell_type": "code",
      "source": [
        "%%sql sqlite:////content/Data/weather_stations.db\n",
        "SELECT * FROM station_data\n",
        "WHERE report_code REGEXP '^C.9.*$'"
      ],
      "metadata": {
        "id": "S0Ewqq5QhcUn"
      },
      "execution_count": null,
      "outputs": []
    },
    {
      "cell_type": "markdown",
      "metadata": {
        "id": "r6VLOPwbeFU7"
      },
      "source": [
        "#Exercise 4\n",
        "\n",
        "Write an SQL Query to Select data yearwise and monthwise with data recorded post 2004 and ordered by latest first and giving data of the sum of windspeed, sum of visibility and maximum visibility"
      ]
    },
    {
      "cell_type": "code",
      "execution_count": null,
      "metadata": {
        "id": "TE3nb_FDeHq5"
      },
      "outputs": [],
      "source": [
        "%%sql sqlite:////content/Data/weather_stations.db\n",
        "SELECT year,\n",
        "month,\n",
        "SUM(wind_speed) AS total_wind_speed,\n",
        "SUM(visibility) AS total_visibility,\n",
        "MAX(visibility) AS Max_visibility\n",
        "FROM station_data\n",
        "WHERE year > 2004\n",
        "GROUP BY year, month\n",
        "ORDER BY year DESC, month DESC"
      ]
    },
    {
      "cell_type": "markdown",
      "metadata": {
        "id": "ai8ivZD4Ywvk"
      },
      "source": [
        "# Bonus Exercises\n",
        "\n"
      ]
    },
    {
      "cell_type": "markdown",
      "metadata": {
        "id": "VY4-fmQOfZbP"
      },
      "source": [
        "## Bonus Exercise 1\n",
        "\n",
        "Write a SQL query to **JOIN** the 3 tables (CUSTOMER_ORDER, PRODUCT, CUSTOMER) and return columns of customer name, customer state, customer city, customer address, order date, ship date, product name, and the price. \\\n",
        "- Hint: You can perform 2 join operations in the same query. Name, state, city, and address come from the CUSTOMER table, order and ship date come from CUSTOMER_ORDER table, and product description and price come from the PRODUCT table."
      ]
    },
    {
      "cell_type": "code",
      "execution_count": null,
      "metadata": {
        "id": "nUTQu7mWfZ4c"
      },
      "outputs": [],
      "source": [
        "%%sql sqlite:////content/Data/rexon_metals.db\n",
        "SELECT CUSTOMER.NAME,\n",
        "CUSTOMER.STATE,\n",
        "CUSTOMER.CITY,\n",
        "CUSTOMER.STREET_ADDRESS,\n",
        "ORDER_DATE,\n",
        "SHIP_DATE,\n",
        "PRODUCT.DESCRIPTION as PRODUCT_NAME,\n",
        "PRODUCT.PRICE\n",
        "\n",
        "FROM CUSTOMER_ORDER\n",
        "JOIN CUSTOMER ON CUSTOMER.CUSTOMER_ID = CUSTOMER_ORDER.CUSTOMER_ID\n",
        "JOIN PRODUCT ON PRODUCT.PRODUCT_ID = CUSTOMER_ORDER.PRODUCT_ID\n"
      ]
    },
    {
      "cell_type": "markdown",
      "metadata": {
        "id": "Vr418jUZyHN4"
      },
      "source": [
        "## Bonus Exercise 2\n",
        "Write a SQL query to join all the tables in the weather_stations database (station_data, report_information, station_location), from this merged table we want: the forecaster, state, city, wind speed, and temperature where no tornados occured and sorted chronologically.\n",
        "    \n",
        "- **Hint**: city is station_location.place"
      ]
    },
    {
      "cell_type": "code",
      "execution_count": null,
      "metadata": {
        "id": "qZ-4I5VqYwvk"
      },
      "outputs": [],
      "source": [
        "%%sql sqlite:////content/Data/weather_stations.db\n",
        "SELECT report_information.weather_forecaster,\n",
        "station_location.state,\n",
        "station_location.place as city,\n",
        "station_data.wind_speed,\n",
        "station_data.temperature\n",
        "FROM station_Data\n",
        "INNER JOIN report_information\n",
        "ON station_data.report_code = report_information.report_code\n",
        "INNER JOIN station_location\n",
        "ON station_data.report_code = station_location.report_code\n",
        "WHERE station_data.tornado = FALSE\n",
        "ORDER BY year, month, day"
      ]
    },
    {
      "cell_type": "markdown",
      "metadata": {
        "id": "IL7_hCr2irLd"
      },
      "source": [
        "## Bonus Exercise 3\n",
        "This exercise will select many aggregates and return them. We want to select the max precipitation and temperature, and the average report percentage of tornados, thunder, and hail. Only select rows where: 0 < percentage < 100 (exclusive). Group the data by station number and return the first 30 entries.\n",
        "    \n",
        "- **Hint**: **WHERE** does not support aggregate operations, try **HAVING** instead. **HAVING** comes after **GROUP BY** in use order."
      ]
    },
    {
      "cell_type": "code",
      "execution_count": null,
      "metadata": {
        "id": "dssA5OGugv2s"
      },
      "outputs": [],
      "source": [
        "%%sql sqlite:////content/Data/weather_stations.db\n",
        "SELECT max(wind_speed) AS 'Max wind speed',\n",
        "max(precipitation) AS 'MAX Precipitation',\n",
        "max(temperature) AS 'MAX Temperature',\n",
        "avg(tornado)*100,\n",
        "cast((avg(tornado) * 100) AS INTEGER) || '%' AS 'Percent tornado',\n",
        "cast((avg(thunder) * 100) AS INTEGER) || '%' AS 'Percent thunder',\n",
        "cast((avg(hail) * 100) AS INTEGER) || '%' AS 'Percent hail'\n",
        "FROM STATION_DATA\n",
        "GROUP BY station_number\n",
        "HAVING (avg(tornado) * 100 BETWEEN 1 AND 99)\n",
        "  AND (avg(thunder) * 100 BETWEEN 1 AND 99)\n",
        "  AND (avg(hail) * 100 BETWEEN 1 AND 99)\n",
        "LIMIT 30"
      ]
    }
  ],
  "metadata": {
    "colab": {
      "provenance": [],
      "toc_visible": true
    },
    "kernelspec": {
      "display_name": "Python 3.10.6 64-bit",
      "language": "python",
      "name": "python3"
    },
    "language_info": {
      "codemirror_mode": {
        "name": "ipython",
        "version": 3
      },
      "file_extension": ".py",
      "mimetype": "text/x-python",
      "name": "python",
      "nbconvert_exporter": "python",
      "pygments_lexer": "ipython3",
      "version": "3.10.6"
    },
    "vscode": {
      "interpreter": {
        "hash": "aee8b7b246df8f9039afb4144a1f6fd8d2ca17a180786b69acc140d282b71a49"
      }
    }
  },
  "nbformat": 4,
  "nbformat_minor": 0
}