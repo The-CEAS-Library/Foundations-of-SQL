{
  "cells": [
    {
      "cell_type": "markdown",
      "source": [
        "## **The following cell has some required code to run to get SQL to work on this notebook so be sure to follow along!**"
      ],
      "metadata": {
        "id": "jFCi26auEjeM"
      }
    },
    {
      "cell_type": "markdown",
      "source": [
        "'%' and '%%'' are indicators for magic functions, load_ext allows us to grab an external library not already supported and load it in for use.\n",
        "\n",
        "We use the 'npx degit' line to grab our database files from their folder location and insert them into a new folder on colab titled Data. Alternatively instead of 'Data', we  can use -f to download directly to the content folder (default location) of colab.\n",
        "\n",
        "*npx is a call to run a binary from npm, in our case degit. degit is a depth git call to clone a folder within a repository*\n",
        "\n",
        "Now that we have our databases are loaded in we use the commands on the last two lines to select the database we wish to use. The last selection is the database that is active."
      ],
      "metadata": {
        "id": "QW0iH5FAEp1S"
      }
    },
    {
      "cell_type": "code",
      "execution_count": null,
      "metadata": {
        "id": "CMJA4JAGYwvN"
      },
      "outputs": [],
      "source": [
        "%load_ext sql\n",
        "!npx degit The-CEAS-Library/Foundations-of-SQL/Databases Data\n",
        "%sql sqlite:////content/Data/northwind.db"
      ]
    },
    {
      "cell_type": "markdown",
      "source": [
        "## **EXCERCISE 1**\n"
      ],
      "metadata": {
        "id": "KtwFyjumm86O"
      }
    },
    {
      "cell_type": "markdown",
      "source": [
        "Write a SQL query to select the columns from Order Details and create a new column that has the the total cost of the items. \\\n",
        "- Hint: The columns are OrderID, ProductID, UnitPrice, and Quantity.\n",
        "- Hint: The total cost can be found by multiplying the price with the quantity of products."
      ],
      "metadata": {
        "id": "VnrgwT73Xh9v"
      }
    },
    {
      "cell_type": "markdown",
      "metadata": {
        "id": "doVyqIRHc_lP"
      },
      "source": [
        "Solution to Exercise 1"
      ]
    },
    {
      "cell_type": "code",
      "source": [
        "%%sql sqlite:////content/Data/northwind.db\n",
        "SELECT OrderID,\n",
        "ProductID,\n",
        "UnitPrice,\n",
        "Quantity,\n",
        "round(UnitPrice * Quantity,2) AS TotalCost\n",
        "FROM 'Order Details'\n",
        "LIMIT 30"
      ],
      "metadata": {
        "trusted": true,
        "id": "pk0s1gRUm86O"
      },
      "outputs": [],
      "execution_count": null
    },
    {
      "cell_type": "markdown",
      "metadata": {
        "id": "BypL3oLyYwvf"
      },
      "source": [
        "# Exercise 2\n",
        "Write a SQL query to find the present date by adding your AGE in years, months, and days to your birthyear.\n",
        "\n",
        "- **Hint**: SELECT DATE('YYYY-MM-DD','+AGE year' ,'+no.of month','+no.of day')"
      ]
    },
    {
      "cell_type": "markdown",
      "metadata": {
        "id": "Yh35G1xZc7YM"
      },
      "source": [
        "Solution to Exercise 2:"
      ]
    },
    {
      "cell_type": "code",
      "execution_count": null,
      "metadata": {
        "id": "imWr8iigYwvf"
      },
      "outputs": [],
      "source": [
        "%%sql\n",
        "SELECT DATE('1994-11-24', '+29 year', '+4 month', '+10 day')\n",
        "-- this output will get 2024-4-3"
      ]
    },
    {
      "cell_type": "markdown",
      "source": [
        "## **EXCERCISE 3**"
      ],
      "metadata": {
        "id": "mi1xL3b3m86W"
      }
    },
    {
      "cell_type": "markdown",
      "source": [
        "$\\;\\;\\;\\;\\;\\;\\;\\;$ a. Write a SQL query to filter products with ReorderLevel between 10 or 20. \\\n",
        "$\\;\\;\\;\\;\\;\\;\\;\\;$ b. Write a SQL query to filter all products with UnitsInStock of 10 or 20.\\\n",
        "$\\;\\;\\;\\;\\;\\;\\;\\;$ c. Write a SQL query to filter suppliers whose CustomerID starts with the letter 'L' and has an 'N' as the third letter."
      ],
      "metadata": {
        "id": "1AC_uoLMlspW"
      }
    },
    {
      "cell_type": "markdown",
      "metadata": {
        "id": "os3weMOHdDoj"
      },
      "source": [
        "Solution to Exercise 3a:"
      ]
    },
    {
      "cell_type": "code",
      "source": [
        "%%sql sqlite:////content/Data/northwind.db\n",
        "SELECT * FROM Products\n",
        "WHERE ReorderLevel BETWEEN 10 AND 20"
      ],
      "metadata": {
        "trusted": true,
        "id": "aWyMAHzkm86W"
      },
      "outputs": [],
      "execution_count": null
    },
    {
      "cell_type": "markdown",
      "metadata": {
        "id": "QjLYtEgudEKQ"
      },
      "source": [
        "Solution to Exercise 3b:"
      ]
    },
    {
      "cell_type": "code",
      "source": [
        "%%sql sqlite:////content/Data/northwind.db\n",
        "SELECT * FROM Products\n",
        "WHERE UnitsInStock IN (10, 20)"
      ],
      "metadata": {
        "id": "5Apk-uKLOq2n"
      },
      "execution_count": null,
      "outputs": []
    },
    {
      "cell_type": "markdown",
      "metadata": {
        "id": "rCflh62ndEok"
      },
      "source": [
        "Solution to Exercise 3c:"
      ]
    },
    {
      "cell_type": "code",
      "source": [
        "%%sql sqlite:////content/Data/northwind.db\n",
        "SELECT * FROM Orders\n",
        "WHERE CustomerID LIKE 'L_N%'\n",
        "--WHERE CustomerID REGEXP '^L.N.*'"
      ],
      "metadata": {
        "id": "25V9rfbrOqiy"
      },
      "execution_count": null,
      "outputs": []
    },
    {
      "cell_type": "markdown",
      "source": [
        "## **EXCERCISE 4**\n",
        "\n"
      ],
      "metadata": {
        "id": "ZG5e3OxFm86Z"
      }
    },
    {
      "cell_type": "markdown",
      "source": [
        "Write an SQL Query to Select the average, minimum, and max **Freight** from countries in North America. Group them by shipper and country, then order them by country in descending order and shipper in ascending order.\n",
        "- **Hint**: Use AVG( ), MIN( ), and MAX( )\n",
        "- **Hint**: shipper = ShipVia, and country = ShipCountry\n",
        "  - You need to do multiple countries and not a continent"
      ],
      "metadata": {
        "id": "28PG5-gmWzwq"
      }
    },
    {
      "cell_type": "markdown",
      "metadata": {
        "id": "1-KtaSCDVTUK"
      },
      "source": [
        "Solution to Exercise 4:"
      ]
    },
    {
      "cell_type": "code",
      "source": [
        "%%sql sqlite:////content/Data/northwind.db\n",
        "SELECT  ShipCountry, ShipVia, round(AVG(Freight),2) AS avg_cost, MAX(Freight) AS max_cost, MIN(Freight) AS min_cost\n",
        "FROM Orders\n",
        "WHERE ShipCountry IN ('USA', 'Canada', 'Mexico')\n",
        "GROUP BY ShipVia, ShipCountry\n",
        "ORDER BY ShipCountry DESC, ShipVia ASC"
      ],
      "metadata": {
        "trusted": true,
        "id": "OjLR1b_tm86Z"
      },
      "outputs": [],
      "execution_count": null
    }
  ],
  "metadata": {
    "colab": {
      "provenance": []
    },
    "kernelspec": {
      "display_name": "Python 3.10.6 64-bit",
      "language": "python",
      "name": "python3"
    },
    "language_info": {
      "codemirror_mode": {
        "name": "ipython",
        "version": 3
      },
      "file_extension": ".py",
      "mimetype": "text/x-python",
      "name": "python",
      "nbconvert_exporter": "python",
      "pygments_lexer": "ipython3",
      "version": "3.10.6"
    },
    "vscode": {
      "interpreter": {
        "hash": "aee8b7b246df8f9039afb4144a1f6fd8d2ca17a180786b69acc140d282b71a49"
      }
    }
  },
  "nbformat": 4,
  "nbformat_minor": 0
}