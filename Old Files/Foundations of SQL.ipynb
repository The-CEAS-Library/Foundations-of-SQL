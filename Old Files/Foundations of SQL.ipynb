{
  "metadata": {
    "kernelspec": {
      "name": "SQLite",
      "display_name": "SQLite",
      "language": "sql"
    },
    "language_info": {
      "codemirror_mode": "sql",
      "file_extension": "",
      "mimetype": "",
      "name": "sql",
      "version": "3.32.3"
    },
    "colab": {
      "provenance": []
    }
  },
  "nbformat_minor": 0,
  "nbformat": 4,
  "cells": [
    {
      "cell_type": "markdown",
      "source": [
        "# **Objectives**\n",
        "- [Introduction to SQL](#scrollTo=sjb4WKgc9Umy)\n",
        "- [Math Operations](#scrollTo=LQ1jxshHm86L)\n",
        "- **Hands-on**\n",
        "    - [SELECT statements](#scrollTo=FtydZoQUm86M)\n",
        "    - [Working with dates](#scrollTo=phuBuwkmm86Q)\n",
        "    - [WHERE filtering](#scrollTo=KObC7RXvm86S)\n",
        "        - Numeric\n",
        "        - Textual\n",
        "        - Boolean\n",
        "    - [Aggregate FIltering](#scrollTo=zNmex2QFm86X)\n",
        "        - GROUP BY\n",
        "        - ORDER BY\n",
        "        - HAVING\n",
        "    - [Using JOIN](#scrollTo=T0vEpQ6tm86Z)\n",
        "        - INNER JOIN\n",
        "        - OUTER JOIN\n",
        "    - [Changing our Database](#scrollTo=MBpR6C_1m86c)"
      ],
      "metadata": {
        "tags": [],
        "editable": true,
        "id": "5S7DyDOHm86D"
      }
    },
    {
      "cell_type": "markdown",
      "source": [
        "## **Using Google Colab and Jupyter Notebooks**\n",
        "\n"
      ],
      "metadata": {
        "id": "PyxPqC4fFOSz"
      }
    },
    {
      "cell_type": "markdown",
      "source": [
        "### Using Google Colab\n",
        "- If you hover over the center in the notebook panel, at the top or bottom of the section you can see '**+ code**' and '**+ text**'. Click '+ Code' to add a new code cell or '+ text' to add a markdown text cell. To run a code cell hit the play button on the left side that appears when you select the cell. Try making cells to leave yourself notes.\n",
        "- When accessing the colab you can change any code or text cell you want without breaking the original files. Don't be afraid to change things and expirement.\n",
        "- You can save a copy of the notebook to your google drive by accessing the File tab.\n",
        "- **This is a virtual environment. You do not need to install any physical code or programs to your computer to run or access this notebook.**\n",
        "- When running a code cell, make sure it finishes executing or that you terminate it. You can't run a second code cell when the other is still on going.\n",
        "- Most toolkits and libraries are already installed on google colab so little setup to get started is needed.\n",
        "- Google Colab supports a variety of different languages. \\\n",
        "$\\;$ \\\n",
        "\n",
        "Now try creating a code cell below and typing \"2+2\" in it, then hit play."
      ],
      "metadata": {
        "id": "J0i1HmixX6LZ"
      }
    },
    {
      "cell_type": "markdown",
      "source": [
        "## **Using a Large Language Model (LLM) as a coding tutor when learning this workshop on your own.**"
      ],
      "metadata": {
        "tags": [],
        "editable": true,
        "id": "fKzYeckgm86F"
      }
    },
    {
      "cell_type": "markdown",
      "source": [
        "\n",
        "There are several ways that a LLM can help improve your self-learning process. A LLM can be used as a coding tutor to help:\n",
        "- Explain new concepts in other words. Ask it to give basic, intermediate, or advanced explanations of coding concepts depending on your familiarity and comfort level.\n",
        "- Guide you through the exercises and explain the logic and code. If you get stuck with the exercises, you can ask the LLM to give you a step-by-step guide to the exercise so you better understand the learning objectives. For best results, be very specific with the LLM so it has the necessary context to best help you.\n",
        "- Give you more exercises. If you aren't sure you understand a concept and want to test your knowledge, ask the LLM to give additional exercises to help test your abilities and understanding. They can be coding problems, multiple choice, fill in the blank, or whatever will work best for your learning style. Be creative and get the support you want.\n",
        "\n",
        "The AI has infinite patience, so ask as many questions as you want!\n",
        "\n",
        "### **The Bolded Concepts**\n",
        "\n",
        "As you go through this workshop, you will notice **Bolded Terms** throughout. The bolded terms are the fundemental concepts that SQL programming is built upon. The key thing here is **if you see a bolded term, consider asking a LLM about it**.\n",
        "\n",
        "- Consider taking the following prompt to a LLM and adding the **bolded  term** to the end:\n",
        "  \n",
        "  `You are going to take on the role of an excellent SQL coding tutor. I'm a beginner learning to program in SQL. In simple terms, please give me an overview and explanation of the following concept:`\n",
        "\n",
        "- You can add more surrounding components to the prompts to make it more clear. For example, maybe you know another language and want ChatGPT to compare how the concept works in Python, R, or C++ to help you better understand.\n",
        "\n",
        "### **LLM Disclaimer**\n",
        "- Outputs may be inaccurate, untruthful, and otherwise misleading.\n",
        "- It may produce biased content.\n",
        "- It will not cite sources.\n",
        "  \n",
        "##### **ChatGPT Specific Disclaimer**\n",
        "\n",
        "\"ChatGPT may produce inaccurate information about people, places, or facts.\" -OpenAI\n",
        "\n",
        "- ChatGPT is not connected to the internet. (although this feature is now available with ChatGPT Plus as a beta feature)\n",
        "- It has limited knowledge of world and events after January 2022.\n",
        "\n",
        "Always use caution when interacting with LLM AI systems. Despite the large bounds in progress and capability, they are still in early versions and teams of people are working to fix short comings and mistakes each and every day. Despite how useful they can be as coding tutors, it is important to remember that their outputs should be met with a healthy amount of skepticism.thy amount of skepticism."
      ],
      "metadata": {
        "id": "PnoWeut_X2XP"
      }
    },
    {
      "cell_type": "markdown",
      "source": [
        "## **Introduction to SQL**"
      ],
      "metadata": {
        "id": "sjb4WKgc9Umy"
      }
    },
    {
      "cell_type": "markdown",
      "source": [
        "### What is SQL and Why and Where is it used?\n",
        "\n"
      ],
      "metadata": {
        "id": "k1qngwAPm86H"
      }
    },
    {
      "cell_type": "markdown",
      "source": [
        "- SQL stands for Structured Query Language.\n",
        "- It was developed in the 1970s by IBM researchers Raymond Boyce and Donald Chamberlin.\n",
        "- SQL is a standard language for storing, manipulating and retrieving data in databases.\n",
        "- SQL is designed to interact with databases by defining, querying, updating, and managing the data within them.\n",
        "- SQL is used in Data Analytics, Healthcare, Marketing, Business, Government and Public services, E-commerce, Finance etc."
      ],
      "metadata": {
        "id": "Lfp1Ik0embur"
      }
    },
    {
      "cell_type": "markdown",
      "source": [
        "### Why should you learn SQL?"
      ],
      "metadata": {
        "id": "-iOd6HxfmcTv"
      }
    },
    {
      "cell_type": "markdown",
      "source": [
        "- SQL is a lucrative skill that helps in handling large databases and making informed decisions using data analysis.\n",
        "- It can be utilized to open up many career paths in both businesses and IT.\n",
        "- In Businesses it helps in performing analysis, research, making strategies, and managerial decisions.\n",
        "- In Technology it helps in data analysis, database management, software management, and Project management etc.\n",
        "- It's a time saving skill that helps in problem solving and data processing.\n",
        "\n"
      ],
      "metadata": {
        "id": "ZfVAF1ZHmc4X"
      }
    },
    {
      "cell_type": "markdown",
      "source": [
        "### What are Databases and Relational Databases?"
      ],
      "metadata": {
        "id": "J6IQLZ8Fmi8g"
      }
    },
    {
      "cell_type": "markdown",
      "source": [
        "- Databases are collections of structured information that are stored and accessed electronically.\n",
        "- They make it easy for companies to extract, update, and analyze internal data, often by using SQL or similar languages.\n",
        "- In relational databases, the data is stored in one or more tables and each table can be viewed as a two-dimensional matrix consisting of rows and columns.\n",
        "- Rows and columns of the relational database are referred to as records and fields. The value stored at the intersection of each row and column is called a Cell."
      ],
      "metadata": {
        "id": "ZWoYWU00mlvz"
      }
    },
    {
      "cell_type": "markdown",
      "source": [
        "### []()"
      ],
      "metadata": {
        "id": "EjbP8abXmyhZ"
      }
    },
    {
      "cell_type": "markdown",
      "source": [
        "![FoundationsofSQL1.jpg](data:image/jpeg;base64,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)![FoundationsofSQL2.jpg](data:image/jpeg;base64,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)"
      ],
      "metadata": {
        "id": "alz3yq5dm86I"
      }
    },
    {
      "cell_type": "markdown",
      "source": [
        " ![FoundationsofSQL3.jpg](data:image/jpeg;base64,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)"
      ],
      "metadata": {
        "id": "fEVQDJACm86K"
      }
    },
    {
      "cell_type": "markdown",
      "source": [
        "### How the tables in a relational database are related?"
      ],
      "metadata": {
        "id": "zVQTL3pem4cr"
      }
    },
    {
      "cell_type": "markdown",
      "source": [
        "- In a relational database, tables are interconnected based on the values in specific columns.\n",
        "- For instance, a row in one table can be linked to a row in another table through these column values.\n",
        "- When each row in the primary table corresponds to one or more rows in a second table, it's termed as a one-to-many relationship.\n",
        "- Typically, these relationships involve the primary key of one table and the foreign key of another.\n",
        "- A foreign key consists of one or more columns in a table that reference the primary key in another table.\n",
        "- Moreover, many-to-many relationships can be decomposed into two one-to-many relationships.\n"
      ],
      "metadata": {
        "id": "78B1M23Gm86L"
      }
    },
    {
      "cell_type": "markdown",
      "source": [
        "### Different types of Relational Database Management Systems (RDBMS)\n",
        "\n",
        "\n"
      ],
      "metadata": {
        "id": "oj2xhdwRm8sw"
      }
    },
    {
      "cell_type": "markdown",
      "source": [
        "1. Microsoft SQL Server\n",
        "    - Microsoft SQL Server is a RDBMS. It serves as a database server, storing and retrieving data as requested by other software applications using the client-server model. Microsoft SQL Server is commonly used for small to medium-sized systems\n",
        "  \n",
        "2. MySQL\n",
        "    - MySQL is a widely used open-source RDBMS in modern application development. Unlike SQL, MySQL is a software rather than a language. MySQL utilizes SQL as its query language, enabling users to define, manipulate, and retrieve data from the database using standardized syntax. MySQL is owned by Oracle.\n",
        "  \n",
        "3. SQLite\n",
        "    - SQLite is an embedded, serverless RDBMS. It functions as an in-memory open-source library with zero configuration requirements, eliminating the need for installation. With a size of less than 500kb, SQLite is remarkably lightweight compared to other database management systems. It operates as a library that applications can directly link to and use.\n",
        "\n",
        "4. PostgreSQL\n",
        "    - PostgreSQL is a powerful, open-source object-relational database system. It extends the SQL language with numerous features designed to securely store and scale complex data workloads.\n",
        "  \n",
        "5. Oracle DB\n",
        "    - Oracle Database, commonly known as Oracle DB, is a widely used RDBMS developed by Oracle Corporation. Renowned for its scalability, security, and reliability, Oracle DB is one of the most popular and powerful database systems globally."
      ],
      "metadata": {
        "id": "vlCzmYdRm9FX"
      }
    },
    {
      "cell_type": "markdown",
      "source": [
        "*In this course we are using SQLite as our Database management System. SQLite is a lightweight database and can be found on all our day-to-day appliances like different Smartphones, Smartwatches, Smart TVs, Car infotainment systems, Digital cameras, home security systems, and ATMs. It is also great for training SQL because we don't have the need to set up a server and do the configuration process.*"
      ],
      "metadata": {
        "id": "ayS78RmYm9m1"
      }
    },
    {
      "cell_type": "markdown",
      "source": [
        "## **The following cell has some required code to run to get SQL to work on this notebook so be sure to follow along!**"
      ],
      "metadata": {
        "id": "RG7T1VLbm86F"
      }
    },
    {
      "cell_type": "markdown",
      "source": [
        "'%' and '%%'' are indicators for magic functions, load_ext allows us to grab an external library not already supported and load it in for use.\n",
        "\n",
        "We use the 'npx degit' line to grab our database files from their folder location and insert them into a new folder on colab titled Data. Alternatively instead of 'Data', we  can use -f to download directly to the content folder (default location) of colab.\n",
        "\n",
        "*npx is a call to run a binary from npm, in our case degit. degit is a depth git call to clone a folder within a repository*\n",
        "\n",
        "Now that we have our databases are loaded in we use the commands on the last two lines to select the database we wish to use. The last selection is the database that is active."
      ],
      "metadata": {
        "id": "TkxGyV5YXx-n"
      }
    },
    {
      "cell_type": "code",
      "source": [
        "%load_ext sql\n",
        "!npx degit The-CEAS-Library/Foundations-of-SQL/Databases Data\n",
        "%sql sqlite:////content/Data/weather_stations.db\n",
        "%sql sqlite:////content/Data/rexon_metals.db"
      ],
      "metadata": {
        "trusted": true,
        "id": "VuzgEVlnm86G"
      },
      "outputs": [],
      "execution_count": null
    },
    {
      "cell_type": "markdown",
      "source": [
        "## **SQL Syntax**"
      ],
      "metadata": {
        "id": "K2wbkY7SsSrF"
      }
    },
    {
      "cell_type": "markdown",
      "source": [
        "In SQL everything is case insensitive. Meaning all commands can be typed in upper or lower case as you wish.\n",
        "In general though, the community uses full caps for statements such as **SELECT**, **FROM**, **WHERE**, **ORDER BY**, **GROUP B**Y, **JOIN**, and more.\n",
        "\n",
        "A Query is typically ended with a semicolon ';' but this is not always necessary.\n",
        "\n",
        "These statements must be used in a certain order if included in the query. \\\n",
        "The order for this is: \\\n",
        "- **SELECT**: This statement is used to retrieve data from one or more tables in a database. It's usually the first statement you write in a query. \\\n",
        "- **FROM**: This statement specifies the table or tables from which you want to retrieve the data. It follows the **SELECT** statement. \\\n",
        "- **JOIN**: This statement is used to combine rows from two or more tables based on a related column between them. It follows the **FROM** statement and precedes any **WHERE** clause. \\\n",
        "- **WHERE**: This statement filters the rows returned by specifying a condition. It allows you to retrieve only the rows that meet certain criteria. It follows the **JOIN** statement and precedes any **GROUP BY** or **HAVING** clauses. \\\n",
        "- **GROUP BY**: This statement groups the result-set by one or more columns. It's often used with aggregate functions (like SUM, COUNT, AVG, etc.) to perform calculations on groups of rows. It follows the **WHERE** statement and precedes the **HAVING** statement. \\\n",
        "- **HAVING**: This statement filters the groups returned by the **GROUP BY** clause. It's similar to the **WHERE** clause but operates on groups of rows rather than individual rows. It follows the **GROUP BY** statement. \\\n",
        "- **ORDER BY**: This statement sorts the result-set in ascending or descending order based on one or more columns. It follows the **HAVING** statement, if present. \\\n",
        "- **LIMIT**/**OFFSET**: These statements are used to limit the number of rows returned by a query or to skip a specified number of rows before returning the result-set. They are usually the last statements in a query."
      ],
      "metadata": {
        "id": "GwmQkOzymUjB"
      }
    },
    {
      "cell_type": "markdown",
      "source": [
        "## **Basic Math Operators in SQL**"
      ],
      "metadata": {
        "id": "LQ1jxshHm86L"
      }
    },
    {
      "cell_type": "markdown",
      "source": [
        "SQL uses similar math operators as other coding languages and follows order of operations just like algebra.\n",
        "\n",
        "Addition: ' **+** '"
      ],
      "metadata": {
        "id": "ibjSuLPimLHX"
      }
    },
    {
      "cell_type": "code",
      "source": [
        "%sql SELECT 2 + 3"
      ],
      "metadata": {
        "trusted": true,
        "id": "FEMJy8G1m86L"
      },
      "outputs": [],
      "execution_count": null
    },
    {
      "cell_type": "markdown",
      "source": [
        "Subtraction: ' **-** '"
      ],
      "metadata": {
        "id": "ssUCyk_sm86L"
      }
    },
    {
      "cell_type": "code",
      "source": [
        "%sql SELECT 5 - 1"
      ],
      "metadata": {
        "trusted": true,
        "id": "LSU0rbAIm86L"
      },
      "outputs": [],
      "execution_count": null
    },
    {
      "cell_type": "markdown",
      "source": [
        "Multiplication: ' **\\*** '"
      ],
      "metadata": {
        "id": "wxQ_Ezzlm86M"
      }
    },
    {
      "cell_type": "code",
      "source": [
        "%sql SELECT 2 * 8"
      ],
      "metadata": {
        "trusted": true,
        "id": "_AOnni0Rm86M"
      },
      "outputs": [],
      "execution_count": null
    },
    {
      "cell_type": "markdown",
      "source": [
        "Division: ' **/** '"
      ],
      "metadata": {
        "id": "a7rrzKWrm86M"
      }
    },
    {
      "cell_type": "code",
      "source": [
        "%sql SELECT 7 / 2, 7.0 / 2, 8/0"
      ],
      "metadata": {
        "trusted": true,
        "id": "2WzXWDVFm86M"
      },
      "outputs": [],
      "execution_count": null
    },
    {
      "cell_type": "markdown",
      "source": [
        "Modulus: ' **%** '"
      ],
      "metadata": {
        "id": "-10AcWmPm86M"
      }
    },
    {
      "cell_type": "code",
      "source": [
        "%sql SELECT 10 % 3"
      ],
      "metadata": {
        "trusted": true,
        "id": "Od3gtWGsm86M"
      },
      "outputs": [],
      "execution_count": null
    },
    {
      "cell_type": "markdown",
      "source": [
        "##Examining our Databases"
      ],
      "metadata": {
        "id": "Yfa6HMux_zyd"
      }
    },
    {
      "cell_type": "markdown",
      "source": [
        "Our Databases we will be looking at today are the rexon_metals.db and weather_stations.db\n",
        "\n",
        "**rexon_metals**\n",
        "- PRODUCT\n",
        "  - PRODUCT_ID\n",
        "  - DESCRIPTION\n",
        "  - PRICE\n",
        "- CUSTOMER\n",
        "  - CUSTOMER_ID\n",
        "  - NAME\n",
        "  - REGION\n",
        "  - STREET_ADDRESS\n",
        "  - CITY\n",
        "  - STATE\n",
        "  - ZIP\n",
        "- CUSTOMER_ORDER\n",
        "  - ORDER_ID\n",
        "  - ORDER_DATE\n",
        "  - SHIP_DATE\n",
        "  - CUSTOMER_ID\n",
        "  - PRODUCT_ID\n",
        "  - ORDER_QTY\n",
        "  - SHIPPED\n",
        "\n",
        "**weather_stations**\n",
        "- STATION_DATA\n",
        "  - station_number\n",
        "  - report_code\n",
        "  - year\n",
        "  - month\n",
        "  - day\n",
        "  - dew_point\n",
        "  - station_pressure\n",
        "  - visibility\n",
        "  - wind_speed\n",
        "  - temperature\n",
        "  - precipitation\n",
        "  - snow_depth\n",
        "  - fog\n",
        "  - rain\n",
        "  - hail\n",
        "  - thunder\n",
        "  - tornado\n",
        "- station_location\n",
        "  - place\n",
        "  - report_code\n",
        "  - state\n",
        "  - zip_code\n",
        "- report_information\n",
        "  - weather_forecaster\n",
        "  -\ttime\n",
        "  -\treport_code\n",
        "  -\tcity\n",
        "  -\taccuracy"
      ],
      "metadata": {
        "id": "dGNHZeFE_7ig"
      }
    },
    {
      "cell_type": "markdown",
      "source": [
        "##**Getting information from an unfamilar database**\n",
        "\n",
        "sqlite has its own ways of finding data such as a list of all the tables that differs from other versions of SQL.\n",
        "\n",
        "Specifically there is a system table that contains metadata about the database objects in the database. It stores information about tables, views, indexes, and triggers. By querying this table we can retrieve a list of the table names and more. This master table is named '**sqlite_master**'. \\\n",
        "\n",
        "Additionally, we can use **PRAGMA** statments to query info about these pieces of data within the sqlite_master table. Here we only care about the tables we are working with so we can use the following to get a information pertaining to the table: \\\n",
        "$\\;\\;\\;\\;\\;$**PRAGMA table_info('table_name')** \\\n",
        " We can further narrow this down by using a **SELECT** statement: \\\n",
        "$\\;\\;\\;\\;\\;$**SELECT name FROM PRAGMA_table_info('table_name')** \\\n",
        " Note the addition of an underscore between **PRAGMA** and table_info for use with a **SELECT** statement.\n",
        "\n"
      ],
      "metadata": {
        "id": "_eRSt_7OhPb_"
      }
    },
    {
      "cell_type": "code",
      "source": [
        "%%sql sqlite:////content/Data/rexon_metals.db\n",
        "SELECT name, type FROM sqlite_master WHERE type= 'table' and NAME NOT LIKE 'sqlite_%'\n",
        "--you can ignore the WHERE and LIKE sections of these queries as we will cover this in the following sections in more detail.\n",
        "--the sqlite_master table contains non table entries hence us filtering for only tables and removing the unnecessary entries as well"
      ],
      "metadata": {
        "id": "sC_rCeT2hfYY"
      },
      "execution_count": null,
      "outputs": []
    },
    {
      "cell_type": "code",
      "source": [
        "%%sql sqlite:////content/Data/rexon_metals.db\n",
        "PRAGMA table_info('PRODUCT')"
      ],
      "metadata": {
        "id": "g7OjmpDW_NXq"
      },
      "execution_count": null,
      "outputs": []
    },
    {
      "cell_type": "code",
      "source": [
        "%%sql sqlite:////content/Data/rexon_metals.db\n",
        "SELECT name FROM PRAGMA_table_info('PRODUCT');"
      ],
      "metadata": {
        "id": "zT303gBOhkzW"
      },
      "execution_count": null,
      "outputs": []
    },
    {
      "cell_type": "code",
      "source": [
        "%%sql sqlite:////content/Data/rexon_metals.db\n",
        "SELECT name FROM PRAGMA_table_info('CUSTOMER');"
      ],
      "metadata": {
        "id": "kgiVLoW_hksO"
      },
      "execution_count": null,
      "outputs": []
    },
    {
      "cell_type": "code",
      "source": [
        "%%sql sqlite:////content/Data/rexon_metals.db\n",
        "SELECT name FROM PRAGMA_table_info('CUSTOMER_ORDER');"
      ],
      "metadata": {
        "id": "2ChrzoT9hki1"
      },
      "execution_count": null,
      "outputs": []
    },
    {
      "cell_type": "code",
      "source": [
        "%%sql sqlite:////content/Data/weather_stations.db\n",
        "SELECT name FROM sqlite_master WHERE type= 'table' and NAME NOT LIKE 'sqlite_%'"
      ],
      "metadata": {
        "id": "uevC--BOhwTo"
      },
      "execution_count": null,
      "outputs": []
    },
    {
      "cell_type": "code",
      "source": [
        "%%sql sqlite:////content/Data/weather_stations.db\n",
        "PRAGMA table_info('STATION_DATA')"
      ],
      "metadata": {
        "id": "0DQIfyYaiQdE"
      },
      "execution_count": null,
      "outputs": []
    },
    {
      "cell_type": "code",
      "source": [
        "%%sql sqlite:////content/Data/weather_stations.db\n",
        "SELECT name FROM PRAGMA_table_info('STATION_DATA');"
      ],
      "metadata": {
        "id": "51fYchmpiP42"
      },
      "execution_count": null,
      "outputs": []
    },
    {
      "cell_type": "code",
      "source": [
        "%%sql sqlite:////content/Data/weather_stations.db\n",
        "SELECT name FROM PRAGMA_table_info('station_location');"
      ],
      "metadata": {
        "id": "hvufeZpTiRIY"
      },
      "execution_count": null,
      "outputs": []
    },
    {
      "cell_type": "code",
      "source": [
        "%%sql sqlite:////content/Data/weather_stations.db\n",
        "SELECT name FROM PRAGMA_table_info('report_information');"
      ],
      "metadata": {
        "id": "I76ifh9NiRAO"
      },
      "execution_count": null,
      "outputs": []
    },
    {
      "cell_type": "markdown",
      "source": [
        "## **Retrieving Data with SELECT Statement**"
      ],
      "metadata": {
        "id": "FtydZoQUm86M"
      }
    },
    {
      "cell_type": "markdown",
      "source": [
        "The **SELECT** statement in SQL is used to retrieve data from one or more tables in a database. It's one of the fundamental and most commonly used statements in SQL.\\\n",
        "\\\n",
        "When selecting from a table we input the column names we wish to select. We can also choose to select all columns by using the ' **\\*** '. By using the asterisk all columns will be selected in the order they were already in, whereas if we select them individually, they will show in the order we choose as well as allowing us to perfom different opperations on each column as we need. \\\n",
        "\\\n",
        "After choosing the column(s) we wish to look at we then need to specify the name of the table we are looking at. We do this by using the **FROM** statement followed by the name of the table. \\\n",
        "\\\n",
        "Maybe there is just way too much data to parse. In that case we can use the **LIMIT** operation to limit the number of values selected. **LIMIT** will select up to that many rows, so even if not that many are available to be looked at there will be no error. \\\n",
        "\\\n",
        "We can also alter the retrieved data from the table to be displayed in a new column. We can do so by performing math operations or function calls on the column name when selecting them. After that we can use the **AS** operation to set an alias, or a new column name for the operation. \\\n",
        "\\\n",
        "Another thing to keep in mind is if you are pulling columns from multiple tables, the column names may be the same. In this case we can use dot notation to specify the table: **table_name.column_name**.\n",
        "\n"
      ],
      "metadata": {
        "id": "qRNbAINsXuBW"
      }
    },
    {
      "cell_type": "markdown",
      "source": [
        "**Retrieving specific columns from a table**"
      ],
      "metadata": {
        "id": "bFTIQsNXm86N"
      }
    },
    {
      "cell_type": "code",
      "source": [
        "%%sql sqlite:////content/Data/rexon_metals.db\n",
        "SELECT CUSTOMER_ID, NAME FROM CUSTOMER"
      ],
      "metadata": {
        "trusted": true,
        "id": "SbklZym8m86N"
      },
      "outputs": [],
      "execution_count": null
    },
    {
      "cell_type": "code",
      "source": [
        "%%sql sqlite:////content/Data/weather_stations.db\n",
        "SELECT report_code, year, tornado FROM station_data"
      ],
      "metadata": {
        "trusted": true,
        "id": "Qa-qU6PNm86N"
      },
      "outputs": [],
      "execution_count": null
    },
    {
      "cell_type": "markdown",
      "source": [
        "**Using LIMIT clause to view a limited number of rows**"
      ],
      "metadata": {
        "id": "jrF4h5Esm86M"
      }
    },
    {
      "cell_type": "code",
      "source": [
        "%%sql sqlite:////content/Data/rexon_metals.db\n",
        "SELECT CUSTOMER_ID, NAME FROM CUSTOMER\n",
        "LIMIT 3"
      ],
      "metadata": {
        "trusted": true,
        "id": "ySRf6Xxim86N"
      },
      "outputs": [],
      "execution_count": null
    },
    {
      "cell_type": "code",
      "source": [
        "%%sql sqlite:////content/Data/rexon_metals.db\n",
        "SELECT CUSTOMER_ID, NAME FROM CUSTOMER\n",
        "LIMIT 10"
      ],
      "metadata": {
        "id": "YK8v36x-Vbts"
      },
      "execution_count": null,
      "outputs": []
    },
    {
      "cell_type": "code",
      "source": [
        "%%sql sqlite:////content/Data/weather_stations.db\n",
        "SELECT report_code, year, tornado FROM station_data\n",
        "LIMIT 5"
      ],
      "metadata": {
        "trusted": true,
        "id": "x2kdmW5bm86N"
      },
      "outputs": [],
      "execution_count": null
    },
    {
      "cell_type": "markdown",
      "source": [
        "**Using SELECT statement to select data from the database. Where '*' denotes All**"
      ],
      "metadata": {
        "id": "0E8J0QwHTWPY"
      }
    },
    {
      "cell_type": "code",
      "source": [
        "%%sql sqlite:////content/Data/rexon_metals.db\n",
        "SELECT * FROM CUSTOMER"
      ],
      "metadata": {
        "trusted": true,
        "id": "FLDKkt34m86M"
      },
      "outputs": [],
      "execution_count": null
    },
    {
      "cell_type": "code",
      "source": [
        "%%sql sqlite:////content/Data/weather_stations.db\n",
        "SELECT * FROM station_data\n",
        "LIMIT 10"
      ],
      "metadata": {
        "trusted": true,
        "id": "njIt5ZXlm86M"
      },
      "outputs": [],
      "execution_count": null
    },
    {
      "cell_type": "markdown",
      "source": [
        "**Exploring a different table in the database**"
      ],
      "metadata": {
        "id": "Q8KvsHMGm86N"
      }
    },
    {
      "cell_type": "code",
      "source": [
        "%%sql sqlite:////content/Data/rexon_metals.db\n",
        "SELECT * FROM PRODUCT"
      ],
      "metadata": {
        "trusted": true,
        "id": "V2zBg2M7m86N"
      },
      "outputs": [],
      "execution_count": null
    },
    {
      "cell_type": "code",
      "source": [
        "%%sql sqlite:////content/Data/weather_stations.db\n",
        "SELECT * FROM station_location"
      ],
      "metadata": {
        "id": "AU9wHnnyVkJu"
      },
      "execution_count": null,
      "outputs": []
    },
    {
      "cell_type": "markdown",
      "source": [
        "**Adding a new column by modifying the existing column**"
      ],
      "metadata": {
        "id": "sEikNreHm86N"
      }
    },
    {
      "cell_type": "code",
      "source": [
        "%%sql sqlite:////content/Data/rexon_metals.db\n",
        "SELECT PRODUCT_ID,\n",
        "DESCRIPTION,\n",
        "PRICE,\n",
        "PRICE * 1.25\n",
        "FROM PRODUCT"
      ],
      "metadata": {
        "id": "4HUy_oyXVz1N"
      },
      "execution_count": null,
      "outputs": []
    },
    {
      "cell_type": "code",
      "source": [
        "%%sql sqlite:////content/Data/weather_stations.db\n",
        "SELECT dew_point,\n",
        "station_pressure,\n",
        "visibility,\n",
        "wind_speed,\n",
        "temperature,\n",
        "(temperature-32)*0.56\n",
        "FROM station_data\n",
        "Limit 20"
      ],
      "metadata": {
        "id": "4Jpjan1oV2aD"
      },
      "execution_count": null,
      "outputs": []
    },
    {
      "cell_type": "markdown",
      "source": [
        "**Adding a new column by modifying the existing column and applying an alias**"
      ],
      "metadata": {
        "id": "nCOc4YMJV8uG"
      }
    },
    {
      "cell_type": "code",
      "source": [
        "%%sql sqlite:////content/Data/rexon_metals.db\n",
        "SELECT PRODUCT_ID,\n",
        "DESCRIPTION,\n",
        "PRICE,\n",
        "PRICE * 1.25 AS TAXED_PRICE\n",
        "FROM PRODUCT"
      ],
      "metadata": {
        "trusted": true,
        "id": "UOiyDOLgm86N"
      },
      "outputs": [],
      "execution_count": null
    },
    {
      "cell_type": "code",
      "source": [
        "%%sql sqlite:////content/Data/weather_stations.db\n",
        "SELECT dew_point,\n",
        "station_pressure,\n",
        "visibility,\n",
        "wind_speed,\n",
        "temperature,\n",
        "(temperature-32)*0.56 AS temperature_celsius\n",
        "FROM station_data\n",
        "LIMIT 20"
      ],
      "metadata": {
        "trusted": true,
        "id": "zqSI2BZTm86N"
      },
      "outputs": [],
      "execution_count": null
    },
    {
      "cell_type": "markdown",
      "source": [
        "**Using the Round function here to decrease the number of decimals in the column**"
      ],
      "metadata": {
        "id": "YlNyjmVqm86N"
      }
    },
    {
      "cell_type": "code",
      "source": [
        "%%sql sqlite:////content/Data/rexon_metals.db\n",
        "SELECT PRODUCT_ID,\n",
        "DESCRIPTION,\n",
        "PRICE,\n",
        "round(PRICE * 1.25,2) AS TAXED_PRICE\n",
        "FROM PRODUCT"
      ],
      "metadata": {
        "trusted": true,
        "id": "2EMaSCT_m86O"
      },
      "outputs": [],
      "execution_count": null
    },
    {
      "cell_type": "code",
      "source": [
        "%%sql sqlite:////content/Data/weather_stations.db\n",
        "SELECT dew_point,\n",
        "station_pressure,\n",
        "visibility,\n",
        "wind_speed,\n",
        "round((temperature-32)*0.56, 1) AS temperature_celsius\n",
        "FROM station_data\n",
        "Limit 20"
      ],
      "metadata": {
        "trusted": true,
        "id": "dp_pVUv5m86O"
      },
      "outputs": [],
      "execution_count": null
    },
    {
      "cell_type": "markdown",
      "source": [
        "## **EXCERCISE 1**\n"
      ],
      "metadata": {
        "id": "KtwFyjumm86O"
      }
    },
    {
      "cell_type": "markdown",
      "source": [
        "Write a SQL query to select the columns dew_point, station_pressure, visibility and create a new column that has the wind_speed in terms of meters per second up to one decimal from the weather stations database. \\\n",
        "- Hint: wind_speed_mps = wind_speed*3.6"
      ],
      "metadata": {
        "id": "VnrgwT73Xh9v"
      }
    },
    {
      "cell_type": "code",
      "source": [
        "%%sql sqlite:////content/Data/weather_stations.db\n"
      ],
      "metadata": {
        "trusted": true,
        "id": "pk0s1gRUm86O"
      },
      "outputs": [],
      "execution_count": null
    },
    {
      "cell_type": "markdown",
      "source": [
        "## **Working with Dates and Times**\n"
      ],
      "metadata": {
        "id": "phuBuwkmm86Q"
      }
    },
    {
      "cell_type": "markdown",
      "source": [
        "\n",
        "Sometimes you may find yourself needing to manage dates inside or outside databases.\n",
        "\n",
        "We can use the Date function to create a formatted value that we can then edit.\n",
        "\n",
        "The format for this is:\n",
        "\n",
        "$\\;\\;\\;\\;\\;$**SELECT DATE('YYYY-MM-DD', '+no.of year' , '+no.of month', '+no.of day')**\n",
        "\n",
        "You can also add and subtract times of day as text input \\\n",
        "$\\;\\;\\;\\;\\;$**SELECT TIME('HH:MM:SS.SS', '+no.of hour', '+no,of minute', '+no.of second')**\n",
        "\n",
        "You may also find yourself wishing to find the number of days between two dates.We can use the JULIANDAY function to perform this operation. By using Julianday we convert the date into a number of days format so that the operation is that much easier to perform. The result of this operation will be a float. \\\n",
        "$\\;\\;\\;\\;\\;$**SELECT JULIANDAY('YYYY-MM-DD') - JULIANDAY('YYYY-MM-DD')**"
      ],
      "metadata": {
        "id": "GyPKoCDeXe7v"
      }
    },
    {
      "cell_type": "markdown",
      "source": [
        "**Finding the Date now**"
      ],
      "metadata": {
        "id": "5nsCF1CwSGZH"
      }
    },
    {
      "cell_type": "code",
      "source": [
        "%%sql\n",
        "SELECT DATE('now')"
      ],
      "metadata": {
        "trusted": true,
        "id": "kMxlyhZ2m86Q"
      },
      "outputs": [],
      "execution_count": null
    },
    {
      "cell_type": "markdown",
      "source": [
        "**Finding the Date yesterday**"
      ],
      "metadata": {
        "id": "PeMk5OpGm86Q"
      }
    },
    {
      "cell_type": "code",
      "source": [
        "%%sql\n",
        "SELECT DATE('now', '-1 day')"
      ],
      "metadata": {
        "trusted": true,
        "id": "LKKAvPAPm86Q"
      },
      "outputs": [],
      "execution_count": null
    },
    {
      "cell_type": "markdown",
      "source": [
        "**Finding the Date in Future from now**"
      ],
      "metadata": {
        "id": "JEn-dMEkm86R"
      }
    },
    {
      "cell_type": "code",
      "source": [
        "%%sql\n",
        "SELECT DATE('now','+3 month', '-1 day')"
      ],
      "metadata": {
        "trusted": true,
        "id": "cagnwSGxm86R"
      },
      "outputs": [],
      "execution_count": null
    },
    {
      "cell_type": "markdown",
      "source": [
        "**Finding the Date in Future from date in past**"
      ],
      "metadata": {
        "id": "cBaYbGB1m86R"
      }
    },
    {
      "cell_type": "code",
      "source": [
        "%%sql\n",
        "SELECT DATE('2018-12-04','+3 month', '-1 day')"
      ],
      "metadata": {
        "trusted": true,
        "id": "twAosWFtm86R"
      },
      "outputs": [],
      "execution_count": null
    },
    {
      "cell_type": "markdown",
      "source": [
        "**Finding time now in Greenwich time**"
      ],
      "metadata": {
        "id": "p3LQ6TV6m86R"
      }
    },
    {
      "cell_type": "code",
      "source": [
        "%%sql\n",
        "SELECT TIME('now')"
      ],
      "metadata": {
        "trusted": true,
        "id": "FK2GhC_Rm86R"
      },
      "outputs": [],
      "execution_count": null
    },
    {
      "cell_type": "markdown",
      "source": [
        "**Finding time difference**"
      ],
      "metadata": {
        "id": "FCQ4nLKbm86R"
      }
    },
    {
      "cell_type": "code",
      "source": [
        "%%sql\n",
        "SELECT TIME('16:30:00','-8 hours');"
      ],
      "metadata": {
        "trusted": true,
        "id": "os-OymBSm86R"
      },
      "outputs": [],
      "execution_count": null
    },
    {
      "cell_type": "markdown",
      "source": [
        "**Finding difference in days between 2 columns using JULIANDAY**"
      ],
      "metadata": {
        "id": "OkRB33r1m86R"
      }
    },
    {
      "cell_type": "code",
      "source": [
        "%%sql sqlite:////content/Data/rexon_metals.db\n",
        "SELECT ORDER_DATE, SHIP_DATE,\n",
        "(JULIANDAY(SHIP_DATE) - JULIANDAY(ORDER_DATE)) AS time_to_ship\n",
        "FROM CUSTOMER_ORDER"
      ],
      "metadata": {
        "trusted": true,
        "id": "3C_7Gjtzm86R"
      },
      "outputs": [],
      "execution_count": null
    },
    {
      "cell_type": "markdown",
      "source": [
        "## **EXCERCISE 2**"
      ],
      "metadata": {
        "id": "4qGvw3otm86R"
      }
    },
    {
      "cell_type": "markdown",
      "source": [
        "Write a SQL query to find the present date by adding your AGE in years, months, and days to your birthyear.\n",
        "\n",
        "- **Hint**: SELECT DATE('YYYY-MM-DD','+AGE year' ,'+no.of month','+no.of day')"
      ],
      "metadata": {
        "id": "vSrcW583XbJf"
      }
    },
    {
      "cell_type": "code",
      "source": [
        "%%sql sqlite:////content/Data/rexon_metals.db\n"
      ],
      "metadata": {
        "trusted": true,
        "id": "tnKtd-JHm86S"
      },
      "outputs": [],
      "execution_count": null
    },
    {
      "cell_type": "markdown",
      "source": [
        "## **Filtering Data using WHERE Statement**\n"
      ],
      "metadata": {
        "id": "KObC7RXvm86S"
      }
    },
    {
      "cell_type": "markdown",
      "source": [
        "In this section we will cover the **WHERE** statement. \\\n",
        "\n",
        "Using the **WHERE** statement we can retrieve data that matches certain conditions be it numerical, textual, or a boolean. This will decide which rows are selected before any kind of grouping is applied to them. Aggregate filters can not be used with **WHERE**. \\\n",
        "\n",
        "While **SELECT** filtered which columns we wanted, **WHERE** will filter the rows we want.\n",
        "\n",
        "As mentioned earlier this **WHERE** statement will come after the **FROM** statement.\n",
        "Here is an example: \\\n",
        "$\\;\\;\\;\\;\\;$**SELECT column_names** \\\n",
        "$\\;\\;\\;\\;\\;$**FROM table_name** \\\n",
        "$\\;\\;\\;\\;\\;$**WHERE column_name = value**\n",
        "\n",
        "Additionally we can check multiple conditions by using '**AND**' between conditions in the **WHERE** statement as well as '**BETWEEN**' to specify a range.\\\n",
        "$\\;\\;\\;\\;\\;$**WHERE column_name BETWEEN value1 AND value2** \\\n"
      ],
      "metadata": {
        "id": "O22ZJdbHjU0X"
      }
    },
    {
      "cell_type": "markdown",
      "source": [
        "### **Filtering using Numeric values**"
      ],
      "metadata": {
        "id": "XjiFLgdPm86S"
      }
    },
    {
      "cell_type": "markdown",
      "source": [
        "When filtering by numeric values we can do inequalities or normal equations for our condition. \\\n",
        "The supported operations are: \\\n",
        "- Greater Than '**>**' \\\n",
        "- Less Than '**<**' \\\n",
        "- Greater Than or Equal to '**>=**' \\\n",
        "- Less Than or Equal to '**<=**' \\\n",
        "- Equal to '**=**' \\\n",
        "- Not Equal to '**!=**'"
      ],
      "metadata": {
        "id": "Zws4wwVno6CU"
      }
    },
    {
      "cell_type": "markdown",
      "source": [
        "**Using SELECT statement to view the database**"
      ],
      "metadata": {
        "id": "qGKH-P9tTtUL"
      }
    },
    {
      "cell_type": "code",
      "source": [
        "%%sql sqlite:////content/Data/weather_stations.db\n",
        "SELECT * FROM station_data\n",
        "LIMIT 30"
      ],
      "metadata": {
        "trusted": true,
        "id": "_jWO0ao-m86S"
      },
      "outputs": [],
      "execution_count": null
    },
    {
      "cell_type": "markdown",
      "source": [
        "**Using WHERE clause in order to filter a record in a particular column**"
      ],
      "metadata": {
        "id": "2tCyxLI_m86S"
      }
    },
    {
      "cell_type": "code",
      "source": [
        "%%sql sqlite:////content/Data/weather_stations.db\n",
        "SELECT * FROM station_data\n",
        "WHERE YEAR = 2010\n",
        "LIMIT 30"
      ],
      "metadata": {
        "trusted": true,
        "id": "kwrgz-2Nm86S"
      },
      "outputs": [],
      "execution_count": null
    },
    {
      "cell_type": "markdown",
      "source": [
        "**Using WHERE clause along with 'NOT' to get data other than specific records**"
      ],
      "metadata": {
        "id": "YZtP_DD-m86S"
      }
    },
    {
      "cell_type": "code",
      "source": [
        "%%sql sqlite:////content/Data/weather_stations.db\n",
        "SELECT * FROM station_data\n",
        "WHERE YEAR != 2010\n",
        "LIMIT 30"
      ],
      "metadata": {
        "trusted": true,
        "id": "UIIddtg9m86T"
      },
      "outputs": [],
      "execution_count": null
    },
    {
      "cell_type": "markdown",
      "source": [
        "**Using WHERE clause to filter data between a range of records**"
      ],
      "metadata": {
        "id": "yn7XBP2um86T"
      }
    },
    {
      "cell_type": "code",
      "source": [
        "%%sql sqlite:////content/Data/weather_stations.db\n",
        "SELECT * FROM station_data\n",
        "WHERE year BETWEEN 2005 AND 2010\n",
        "LIMIT 30"
      ],
      "metadata": {
        "trusted": true,
        "id": "o0WZkke7m86T"
      },
      "outputs": [],
      "execution_count": null
    },
    {
      "cell_type": "markdown",
      "source": [
        "**Using WHERE clause and less than equal signs to filter data between a range**"
      ],
      "metadata": {
        "id": "VNz5JPmnm86T"
      }
    },
    {
      "cell_type": "code",
      "source": [
        "%%sql sqlite:////content/Data/weather_stations.db\n",
        "SELECT * FROM station_data\n",
        "WHERE year >= 2005 AND year <= 2010\n",
        "LIMIT 30"
      ],
      "metadata": {
        "trusted": true,
        "id": "oJm_lxtim86T"
      },
      "outputs": [],
      "execution_count": null
    },
    {
      "cell_type": "markdown",
      "source": [
        "**Using WHERE clause to select data from specific records in columns**"
      ],
      "metadata": {
        "id": "1N5UU20Um86T"
      }
    },
    {
      "cell_type": "code",
      "source": [
        "%%sql sqlite:////content/Data/weather_stations.db\n",
        "SELECT * FROM station_data\n",
        "WHERE MONTH = 3\n",
        "OR MONTH = 6\n",
        "OR MONTH = 9\n",
        "OR MONTH = 12\n",
        "LIMIT 30"
      ],
      "metadata": {
        "trusted": true,
        "id": "lAXPhiXYm86T"
      },
      "outputs": [],
      "execution_count": null
    },
    {
      "cell_type": "markdown",
      "source": [
        "**Using IN operator**"
      ],
      "metadata": {
        "id": "Kq4fvkHam86T"
      }
    },
    {
      "cell_type": "code",
      "source": [
        "%%sql sqlite:////content/Data/weather_stations.db\n",
        "SELECT * FROM station_data\n",
        "WHERE MONTH IN (3,6,9,12)\n",
        "LIMIT 30"
      ],
      "metadata": {
        "trusted": true,
        "id": "1AQmUfsbm86T"
      },
      "outputs": [],
      "execution_count": null
    },
    {
      "cell_type": "markdown",
      "source": [
        "**Using NOT IN Operation**"
      ],
      "metadata": {
        "id": "KD63RqRmm86T"
      }
    },
    {
      "cell_type": "code",
      "source": [
        "%%sql sqlite:////content/Data/weather_stations.db\n",
        "SELECT * FROM station_data\n",
        "WHERE MONTH NOT IN (3,6,9,12)\n",
        "LIMIT 30"
      ],
      "metadata": {
        "trusted": true,
        "id": "PR--zvaAm86U"
      },
      "outputs": [],
      "execution_count": null
    },
    {
      "cell_type": "markdown",
      "source": [
        "### **Filtering using Textual(String) Values**"
      ],
      "metadata": {
        "id": "lx22Gs_-m86U"
      }
    },
    {
      "cell_type": "markdown",
      "source": [
        "When filtering by textual values we can check to see if they equal certain values, see if the value is one of a list of values, the length of the text, or even if characters in a certain position of the text is a certain value. \\\n",
        "We can do this with the following ways: \\\n",
        "- **WHERE column_name = 'string value'** \\\n",
        "- **WHERE column_name in ('value1', 'value2', ...)** \\\n",
        "- **WHERE length(column_name) = numval** \\\n",
        "- **WHERE column_name LIKE '_A%'**\n",
        "  - The '**%**' represents any number of characters of any value. \\\n",
        "  - The '**_**' indicates a placeholder for a single character of any value.\n",
        "- **WHERE report_code REGEXP '^A.*$'**\n",
        "  - This is a string that lets you specify order of characters, which characters, and how many characters you want to look for in the column."
      ],
      "metadata": {
        "id": "8uwFrdjlqZky"
      }
    },
    {
      "cell_type": "markdown",
      "source": [
        "**Filtering Text with WHERE. Wrapping the text value with single quotes**"
      ],
      "metadata": {
        "id": "6IYWGw0NUHiF"
      }
    },
    {
      "cell_type": "code",
      "source": [
        "%%sql sqlite:////content/Data/weather_stations.db\n",
        "SELECT * FROM station_data\n",
        "WHERE report_code = '513A63'"
      ],
      "metadata": {
        "trusted": true,
        "id": "KC3tr3Rqm86U"
      },
      "outputs": [],
      "execution_count": null
    },
    {
      "cell_type": "markdown",
      "source": [
        "**Filtering textual data using IN operation**"
      ],
      "metadata": {
        "id": "sUob5X7Nm86U"
      }
    },
    {
      "cell_type": "code",
      "source": [
        "%%sql sqlite:////content/Data/weather_stations.db\n",
        "SELECT * FROM station_data\n",
        "WHERE report_code IN ('513A63', '1F8A7B', 'EF616A')"
      ],
      "metadata": {
        "trusted": true,
        "id": "8ffl-AKam86U"
      },
      "outputs": [],
      "execution_count": null
    },
    {
      "cell_type": "markdown",
      "source": [
        "**Filtering data using the length function**"
      ],
      "metadata": {
        "id": "DVkGXKtOm86U"
      }
    },
    {
      "cell_type": "code",
      "source": [
        "%%sql sqlite:////content/Data/weather_stations.db\n",
        "SELECT * FROM station_data\n",
        "WHERE length(report_code) != 6"
      ],
      "metadata": {
        "trusted": true,
        "id": "eIhEKvVdm86U"
      },
      "outputs": [],
      "execution_count": null
    },
    {
      "cell_type": "markdown",
      "source": [
        "**Filtering data which starts with certain character example A. % represents any number of characters**"
      ],
      "metadata": {
        "id": "B4Er-tgim86U"
      }
    },
    {
      "cell_type": "code",
      "source": [
        "%%sql sqlite:////content/Data/weather_stations.db\n",
        "SELECT * FROM station_data\n",
        "WHERE report_code LIKE 'A%'\n",
        "LIMIT 30"
      ],
      "metadata": {
        "trusted": true,
        "id": "7o35oWcDm86U"
      },
      "outputs": [],
      "execution_count": null
    },
    {
      "cell_type": "markdown",
      "source": [
        "**Using underscore as a placeholder for textual filtering**"
      ],
      "metadata": {
        "id": "0s0QCYjTm86U"
      }
    },
    {
      "cell_type": "code",
      "source": [
        "%%sql sqlite:////content/Data/weather_stations.db\n",
        "SELECT * FROM station_data\n",
        "WHERE report_code LIKE 'B_C%'\n",
        "LIMIT 30"
      ],
      "metadata": {
        "trusted": true,
        "id": "pNxlOGizm86V"
      },
      "outputs": [],
      "execution_count": null
    },
    {
      "cell_type": "markdown",
      "source": [
        "**Using REGEXP operation keyword for textual filtering** \\\n",
        "- **.**: matches any character \\\n",
        "- **\\***: matches zero or more of the preceding character \\\n",
        "- **+**: matches one or more of the preceding character \\\n",
        "- **\\$**: matches the end of a string \\\n",
        "- **^**: matches the start of a String \\\n",
        "- **[abc]**: matches any of the enclosed characters \\\n",
        "- **[^abc]**: matches any character not enclosed \\\n",
        "- ex. **[A-Z]**: matches any capital alphabet letter"
      ],
      "metadata": {
        "id": "0KRWYC92m86V"
      }
    },
    {
      "cell_type": "code",
      "source": [
        "%%sql sqlite:////content/Data/weather_stations.db\n",
        "SELECT * FROM station_data\n",
        "WHERE report_code REGEXP 'A.*$'\n",
        "LIMIT 15"
      ],
      "metadata": {
        "id": "PObxTQq_8EAV"
      },
      "execution_count": null,
      "outputs": []
    },
    {
      "cell_type": "code",
      "source": [
        "%%sql sqlite:////content/Data/weather_stations.db\n",
        "SELECT * FROM station_data\n",
        "--WHERE report_code REGEXP '^[A-B].*D$'\n",
        "WHERE report_code LIKE 'A%D' OR report_code LIKE 'B%D'\n",
        "LIMIT 15"
      ],
      "metadata": {
        "trusted": true,
        "id": "K7odxBb1m86V"
      },
      "outputs": [],
      "execution_count": null
    },
    {
      "cell_type": "markdown",
      "source": [
        "### **Filtering using Boolean Values**\n"
      ],
      "metadata": {
        "id": "HvfakrL9m86V"
      }
    },
    {
      "cell_type": "markdown",
      "source": [
        "When filtering by boolean values we can do equalities for our condition as well as check for null values. \\\n",
        "The supported operations are: \\\n",
        "- **WHERE column_name = 1** \\\n",
        "- **WHERE column_name = 0** \\\n",
        "- **WHERE column_name = TRUE** \\\n",
        "- **WHERE column_name = FALSE** \\\n",
        "- **WHERE column_name IS NULL** \\\n",
        "- **WHERE column_name IS NOT NULL** \\\n"
      ],
      "metadata": {
        "id": "ES4Yf0DSsMDa"
      }
    },
    {
      "cell_type": "markdown",
      "source": [
        "**Filtering for boolean values**"
      ],
      "metadata": {
        "id": "fRIyeEZMVDZh"
      }
    },
    {
      "cell_type": "code",
      "source": [
        "%%sql sqlite:////content/Data/weather_stations.db\n",
        "SELECT * FROM station_data\n",
        "WHERE tornado = 1 AND hail = 1\n",
        "LIMIT 30"
      ],
      "metadata": {
        "trusted": true,
        "id": "YahKU8-ym86V"
      },
      "outputs": [],
      "execution_count": null
    },
    {
      "cell_type": "markdown",
      "source": [
        "**Filtering for boolean values with keywords**"
      ],
      "metadata": {
        "id": "Xfn9pLghm86V"
      }
    },
    {
      "cell_type": "code",
      "source": [
        "%%sql sqlite:////content/Data/weather_stations.db\n",
        "SELECT * FROM station_data\n",
        "WHERE tornado = TRUE AND hail = TRUE\n",
        "LIMIT 30"
      ],
      "metadata": {
        "trusted": true,
        "id": "3Eo_Cn3vm86V"
      },
      "outputs": [],
      "execution_count": null
    },
    {
      "cell_type": "markdown",
      "source": [
        "**Filtering for null values using IS operator**"
      ],
      "metadata": {
        "id": "6O1zTxT5m86V"
      }
    },
    {
      "cell_type": "code",
      "source": [
        "%%sql sqlite:////content/Data/weather_stations.db\n",
        "SELECT * FROM station_data\n",
        "WHERE snow_depth IS NULL\n",
        "LIMIT 30"
      ],
      "metadata": {
        "trusted": true,
        "id": "duCg_OYkm86V"
      },
      "outputs": [],
      "execution_count": null
    },
    {
      "cell_type": "markdown",
      "source": [
        "**Filtering for null values using IS NOT operator**"
      ],
      "metadata": {
        "id": "Ey_6xi8Om86V"
      }
    },
    {
      "cell_type": "code",
      "source": [
        "%%sql sqlite:////content/Data/weather_stations.db\n",
        "SELECT * FROM station_data\n",
        "WHERE snow_depth IS NOT NULL\n",
        "LIMIT 30"
      ],
      "metadata": {
        "trusted": true,
        "id": "r35qWqkRm86V"
      },
      "outputs": [],
      "execution_count": null
    },
    {
      "cell_type": "markdown",
      "source": [
        "**Filtering values for a column, NULL values are always going to qualify for False unless you explicitly handle them**"
      ],
      "metadata": {
        "id": "jhoDPNXNm86W"
      }
    },
    {
      "cell_type": "code",
      "source": [
        "%%sql sqlite:////content/Data/weather_stations.db\n",
        "SELECT * FROM station_data\n",
        "WHERE precipitation <= 0.5\n",
        "LIMIT 30"
      ],
      "metadata": {
        "trusted": true,
        "id": "9TVzRMCkm86W"
      },
      "outputs": [],
      "execution_count": null
    },
    {
      "cell_type": "markdown",
      "source": [
        "**Filtering values for a column that include NULL values**"
      ],
      "metadata": {
        "id": "ki6X-kFlm86W"
      }
    },
    {
      "cell_type": "code",
      "source": [
        "%%sql sqlite:////content/Data/weather_stations.db\n",
        "SELECT * FROM station_data\n",
        "WHERE precipitation IS NULL OR precipitation <= 0.5\n",
        "LIMIT 30\n",
        "OFFSET 30"
      ],
      "metadata": {
        "trusted": true,
        "id": "reHby88Sm86W"
      },
      "outputs": [],
      "execution_count": null
    },
    {
      "cell_type": "markdown",
      "source": [
        "**Filtering values using COALESCE function by reading NULL values as another value during the comparison. Here we pass two values in this function, One is the column name and the possible value we want the NULL values to take, incase it is NULL**\n",
        "  - NOTE: The result will contain 'None' where the NULL values were detected, the coelesce function just allows the comparison to think the NULL is another value for the purpose of comparing."
      ],
      "metadata": {
        "id": "CZC6NDpzm86W"
      }
    },
    {
      "cell_type": "code",
      "source": [
        "%%sql sqlite:////content/Data/weather_stations.db\n",
        "SELECT precipitation\n",
        "FROM station_data\n",
        "WHERE coalesce(precipitation, 0) <=0.5\n",
        "LIMIT 30\n",
        "OFFSET 30"
      ],
      "metadata": {
        "trusted": true,
        "id": "YHxGM1FIm86W"
      },
      "outputs": [],
      "execution_count": null
    },
    {
      "cell_type": "markdown",
      "source": [
        "**Mixing AND and OR**"
      ],
      "metadata": {
        "id": "ouQxCt6Rm86W"
      }
    },
    {
      "cell_type": "markdown",
      "source": [
        "Order of operations for the Logical Operators are:\n",
        "1. NOT\n",
        "2. AND\n",
        "3. OR"
      ],
      "metadata": {
        "id": "yTT3HTHbFYYt"
      }
    },
    {
      "cell_type": "code",
      "source": [
        "%%sql sqlite:////content/Data/weather_stations.db\n",
        "SELECT * FROM station_data\n",
        "WHERE rain = 1 AND temperature <=32\n",
        "OR snow_depth > 0\n",
        "LIMIT 30"
      ],
      "metadata": {
        "trusted": true,
        "id": "KNAV9vBYm86W"
      },
      "outputs": [],
      "execution_count": null
    },
    {
      "cell_type": "code",
      "source": [
        "%%sql sqlite:////content/Data/weather_stations.db\n",
        "SELECT * FROM station_data\n",
        "WHERE rain = 1 AND (temperature <=32\n",
        "OR snow_depth > 0)\n",
        "LIMIT 30"
      ],
      "metadata": {
        "id": "OGjdwEZ4DkZ1"
      },
      "execution_count": null,
      "outputs": []
    },
    {
      "cell_type": "markdown",
      "source": [
        "## **EXCERCISE 3**"
      ],
      "metadata": {
        "id": "mi1xL3b3m86W"
      }
    },
    {
      "cell_type": "markdown",
      "source": [
        "\n",
        "$\\;\\;\\;\\;\\;\\;\\;\\;$ a. Write a SQL query to filter all records data between year 2009 and 2012 \\\n",
        "$\\;\\;\\;\\;\\;\\;\\;\\;$ b. Write a SQL query to filter data from the month of May and October of every year \\\n",
        "$\\;\\;\\;\\;\\;\\;\\;\\;\\;\\;\\;\\;\\;$- **Hint**: months are stored numerically \\\n",
        "\n",
        "$\\;\\;\\;\\;\\;\\;\\;\\;$ c. write a SQL query to filter data where every report_code starts with letter 'C' and has third letter as '9'"
      ],
      "metadata": {
        "id": "yWZIRdJdXDHC"
      }
    },
    {
      "cell_type": "code",
      "source": [
        "%%sql sqlite:////content/Data/weather_stations.db\n"
      ],
      "metadata": {
        "trusted": true,
        "id": "aWyMAHzkm86W"
      },
      "outputs": [],
      "execution_count": null
    },
    {
      "cell_type": "code",
      "source": [
        "%%sql sqlite:////content/Data/weather_stations.db\n"
      ],
      "metadata": {
        "id": "5Apk-uKLOq2n"
      },
      "execution_count": null,
      "outputs": []
    },
    {
      "cell_type": "code",
      "source": [
        "%%sql sqlite:////content/Data/weather_stations.db\n"
      ],
      "metadata": {
        "id": "25V9rfbrOqiy"
      },
      "execution_count": null,
      "outputs": []
    },
    {
      "cell_type": "markdown",
      "source": [
        "## **Using Aggregate Functions that Reduce Data into a Single Value**"
      ],
      "metadata": {
        "id": "zNmex2QFm86X"
      }
    },
    {
      "cell_type": "markdown",
      "source": [
        "We can use various aggregate functions to condence our columns into statistical data. \\\n",
        "Some of these functions include: \\\n",
        "\n",
        "- **COUNT**: Counts the number of rows in a result set.\\\n",
        "$\\;\\;\\;\\;\\;$**SELECT COUNT(column_name) FROM table_name;**\n",
        "\n",
        "- **SUM**: Calculates the sum of values in a numeric column.\\\n",
        "$\\;\\;\\;\\;\\;$**SELECT SUM(column_name) FROM table_name;**\n",
        "\n",
        "- **AVG**: Calculates the average of values in a numeric column.\\\n",
        "$\\;\\;\\;\\;\\;$**SELECT AVG(column_name) FROM table_name;**\n",
        "\n",
        "- **MIN**: Retrieves the minimum value in a column.\\\n",
        "$\\;\\;\\;\\;\\;$**SELECT MIN(column_name) FROM table_name;**\n",
        "\n",
        "- **MAX**: Retrieves the maximum value in a column.\\\n",
        "$\\;\\;\\;\\;\\;$**SELECT MAX(column_name) FROM table_name;**\n",
        "\n",
        "\n",
        "**HAVING** comes after the **GROUP BY** clause and filters these grouped rows using aggregated values. \\\n",
        "$\\;\\;\\;\\;\\;$**HAVING SUM(column_name) > num_value**"
      ],
      "metadata": {
        "id": "nW3ho9rCtCSR"
      }
    },
    {
      "cell_type": "markdown",
      "source": [
        "**Using COUNT function to count the number of aggregate records in the table**"
      ],
      "metadata": {
        "id": "cVGJKol9VcJF"
      }
    },
    {
      "cell_type": "code",
      "source": [
        "%%sql sqlite:////content/Data/weather_stations.db\n",
        "SELECT COUNT(*) AS record_count\n",
        "FROM station_data"
      ],
      "metadata": {
        "trusted": true,
        "id": "z_oJqtnvm86X"
      },
      "outputs": [],
      "execution_count": null
    },
    {
      "cell_type": "markdown",
      "source": [
        "**Refining the Filtering using WHERE to extract boolean records**"
      ],
      "metadata": {
        "id": "DwOGMv-xm86X"
      }
    },
    {
      "cell_type": "code",
      "source": [
        "%%sql sqlite:////content/Data/weather_stations.db\n",
        "SELECT COUNT(*) AS record_count\n",
        "FROM station_data\n",
        "WHERE tornado = 1"
      ],
      "metadata": {
        "trusted": true,
        "id": "x-H9jPQsm86X"
      },
      "outputs": [],
      "execution_count": null
    },
    {
      "cell_type": "markdown",
      "source": [
        "**Refining the Filtering using GROUP BY to extract count of records by year**"
      ],
      "metadata": {
        "id": "ZHOe_Y-Im86X"
      }
    },
    {
      "cell_type": "code",
      "source": [
        "%%sql sqlite:////content/Data/weather_stations.db\n",
        "SELECT year,\n",
        "COUNT(*) AS record_count\n",
        "FROM station_data\n",
        "WHERE tornado = 1\n",
        "GROUP BY year"
      ],
      "metadata": {
        "trusted": true,
        "id": "Z3pdCPb2m86X"
      },
      "outputs": [],
      "execution_count": null
    },
    {
      "cell_type": "markdown",
      "source": [
        "**Refining the Filtering using GROUP BY to extract count of records by year and month**"
      ],
      "metadata": {
        "id": "AAeROlq-m86X"
      }
    },
    {
      "cell_type": "code",
      "source": [
        "%%sql sqlite:////content/Data/weather_stations.db\n",
        "SELECT year,\n",
        "month,\n",
        "COUNT(*) AS record_count\n",
        "FROM station_data\n",
        "WHERE tornado = 1\n",
        "GROUP BY year, month\n",
        "LIMIT 30"
      ],
      "metadata": {
        "trusted": true,
        "id": "xZpTTJJOm86X"
      },
      "outputs": [],
      "execution_count": null
    },
    {
      "cell_type": "markdown",
      "source": [
        "**Refining the Filtering using GROUP BY to extract count of records by year and month and using ORDER BY to retrieve ordered results**"
      ],
      "metadata": {
        "id": "ecXDq-cqm86X"
      }
    },
    {
      "cell_type": "code",
      "source": [
        "%%sql sqlite:////content/Data/weather_stations.db\n",
        "SELECT year,\n",
        "month,\n",
        "COUNT(*) AS record_count\n",
        "FROM station_data\n",
        "WHERE tornado = 1\n",
        "GROUP BY year, month\n",
        "ORDER BY month, year\n",
        "LIMIT 30"
      ],
      "metadata": {
        "trusted": true,
        "id": "g2RSrpNhm86X"
      },
      "outputs": [],
      "execution_count": null
    },
    {
      "cell_type": "markdown",
      "source": [
        "**Refining the Filtering using GROUP BY to extract count of records by year and month and using ORDER BY to retrieve ordered results with latest results first**"
      ],
      "metadata": {
        "id": "3ZivxZd6m86X"
      }
    },
    {
      "cell_type": "code",
      "source": [
        "%%sql sqlite:////content/Data/weather_stations.db\n",
        "SELECT year,\n",
        "month,\n",
        "COUNT(*) AS record_count\n",
        "FROM station_data\n",
        "WHERE tornado = 1\n",
        "GROUP BY year, month\n",
        "ORDER BY year DESC, month ASC\n",
        "LIMIT 30"
      ],
      "metadata": {
        "trusted": true,
        "id": "za0Klk08m86Y"
      },
      "outputs": [],
      "execution_count": null
    },
    {
      "cell_type": "markdown",
      "source": [
        "**Filtering data using AVERAGE FUNCTION and GROUP BY**"
      ],
      "metadata": {
        "id": "Z2Y03af1m86Y"
      }
    },
    {
      "cell_type": "code",
      "source": [
        "%%sql sqlite:////content/Data/weather_stations.db\n",
        "SELECT month,\n",
        "round(AVG(temperature),2) AS avg_temp\n",
        "FROM station_data\n",
        "WHERE year >= 2000\n",
        "GROUP BY month"
      ],
      "metadata": {
        "trusted": true,
        "id": "yhHbpFTNm86Y"
      },
      "outputs": [],
      "execution_count": null
    },
    {
      "cell_type": "markdown",
      "source": [
        "**Filtering data using SUM aggregate function**"
      ],
      "metadata": {
        "id": "P-pygItnm86Y"
      }
    },
    {
      "cell_type": "code",
      "source": [
        "%%sql sqlite:////content/Data/weather_stations.db\n",
        "SELECT year,\n",
        "SUM(snow_depth) AS total_snow\n",
        "FROM station_data\n",
        "WHERE year>= 2005\n",
        "GROUP BY year"
      ],
      "metadata": {
        "trusted": true,
        "id": "gDsrjDEXm86Y"
      },
      "outputs": [],
      "execution_count": null
    },
    {
      "cell_type": "markdown",
      "source": [
        "**Filtering data using SUM and MAX aggregate function**"
      ],
      "metadata": {
        "id": "932FAtDJm86Y"
      }
    },
    {
      "cell_type": "code",
      "source": [
        "%%sql sqlite:////content/Data/weather_stations.db\n",
        "SELECT year,\n",
        "SUM(snow_depth) AS total_snow,\n",
        "SUM(precipitation) AS total_precipitation,\n",
        "MAX(precipitation) AS max_precipitation\n",
        "FROM station_data\n",
        "WHERE year>= 2005\n",
        "GROUP BY year"
      ],
      "metadata": {
        "trusted": true,
        "id": "cOGyT2dom86Y"
      },
      "outputs": [],
      "execution_count": null
    },
    {
      "cell_type": "markdown",
      "source": [
        "**Filtering data using MIN and MAX aggregate function**"
      ],
      "metadata": {
        "id": "MXSikQ-Rm86Y"
      }
    },
    {
      "cell_type": "code",
      "source": [
        "%%sql sqlite:////content/Data/weather_stations.db\n",
        "SELECT month,\n",
        "MIN(temperature) AS min_temp,\n",
        "AVG(temperature) AS avg_temp,\n",
        "MAX(temperature) AS max_temp\n",
        "FROM station_data\n",
        "WHERE year >= 2000\n",
        "GROUP BY month"
      ],
      "metadata": {
        "trusted": true,
        "id": "g8O_EOKQm86Y"
      },
      "outputs": [],
      "execution_count": null
    },
    {
      "cell_type": "markdown",
      "source": [
        "**Using CASE expression to add another column to the data table**"
      ],
      "metadata": {
        "id": "rOG4my4Am86Y"
      }
    },
    {
      "cell_type": "code",
      "source": [
        "%%sql sqlite:////content/Data/weather_stations.db\n",
        "SELECT report_code,\n",
        "year,\n",
        "month,\n",
        "day,\n",
        "wind_speed,\n",
        "CASE\n",
        "   WHEN wind_speed >= 50 THEN 'DANGER'\n",
        "   WHEN wind_speed >= 35 THEN 'GALE'\n",
        "   WHEN wind_speed >= 20 THEN 'BREEZE'\n",
        "   ELSE 'LIGHT'\n",
        "END AS wind_severity\n",
        "FROM station_data\n",
        "ORDER BY wind_speed"
      ],
      "metadata": {
        "trusted": true,
        "id": "Dw4KDH9hm86Z"
      },
      "outputs": [],
      "execution_count": null
    },
    {
      "cell_type": "markdown",
      "source": [
        "**Using HAVING to further filter our query**"
      ],
      "metadata": {
        "id": "g-Zv-wcmXBoP"
      }
    },
    {
      "cell_type": "code",
      "source": [
        "%%sql sqlite:////content/Data/weather_stations.db\n",
        "SELECT year,\n",
        "SUM(snow_depth) AS total_snow,\n",
        "SUM(precipitation) AS total_precipitation,\n",
        "MAX(precipitation) AS max_precipitation\n",
        "FROM station_data\n",
        "WHERE year>= 2005\n",
        "GROUP BY year"
      ],
      "metadata": {
        "id": "pYeOgQw7Xhel"
      },
      "execution_count": null,
      "outputs": []
    },
    {
      "cell_type": "code",
      "source": [
        "%%sql sqlite:////content/Data/weather_stations.db\n",
        "SELECT year,\n",
        "SUM(snow_depth) AS total_snow,\n",
        "SUM(precipitation) AS total_precipitation,\n",
        "MAX(precipitation) AS max_precipitation\n",
        "FROM station_data\n",
        "WHERE year>= 2005\n",
        "GROUP BY year\n",
        "HAVING SUM(snow_depth) < 500"
      ],
      "metadata": {
        "id": "wplxxxC1XBIK"
      },
      "execution_count": null,
      "outputs": []
    },
    {
      "cell_type": "markdown",
      "source": [
        "## **EXCERCISE 4**\n",
        "\n"
      ],
      "metadata": {
        "id": "ZG5e3OxFm86Z"
      }
    },
    {
      "cell_type": "markdown",
      "source": [
        "- Write an SQL Query to Select data yearwise and monthwise with data recorded post 2004 and ordered by latest first and giving data of the sum of windspeed, sum of visibility and maximum visibility"
      ],
      "metadata": {
        "id": "28PG5-gmWzwq"
      }
    },
    {
      "cell_type": "code",
      "source": [
        "%%sql sqlite:////content/Data/weather_stations.db\n"
      ],
      "metadata": {
        "trusted": true,
        "id": "OjLR1b_tm86Z"
      },
      "outputs": [],
      "execution_count": null
    },
    {
      "cell_type": "markdown",
      "source": [
        "## **Using JOIN to Combine Tables**"
      ],
      "metadata": {
        "id": "T0vEpQ6tm86Z"
      }
    },
    {
      "cell_type": "markdown",
      "source": [
        "\n",
        "**JOIN** is used to join to two tables to create a much more descriptive view of your data. In here the parent table supplies data and the child table receives data.\n",
        "\n",
        "- **INNER JOIN**: Selects records from the two tables based on a specified condition. Can use just **JOIN** instead\n",
        "      \n",
        "- **LEFT JOIN**:  Returns all rows from the left table, and the matched rows from the right table. If there are no matches, NULL values are used for the columns from the right table.\n",
        "\n",
        "If we use join without any kind of condition, we may get multiple repeat columns that joined in a way we did not want. to specify a JOIN condition we follow the join operation with '**ON**' and a condition for them to meet. \\\n",
        "Example: \\\n",
        "$\\;\\;\\;\\;\\;$**FROM table1 (JOIN-type) table2** \\\n",
        "$\\;\\;\\;\\;\\;$**ON table1.column_name = table2.column_name**"
      ],
      "metadata": {
        "id": "5rhyNJrnVwT_"
      }
    },
    {
      "cell_type": "markdown",
      "source": [
        "**Using INNER JOIN operation**"
      ],
      "metadata": {
        "id": "5bhQsH17Vx0c"
      }
    },
    {
      "cell_type": "code",
      "source": [
        "%%sql sqlite:////content/Data/rexon_metals.db\n",
        "SELECT ORDER_ID,\n",
        "CUSTOMER.CUSTOMER_ID,\n",
        "ORDER_DATE,\n",
        "SHIP_DATE,\n",
        "NAME,\n",
        "STREET_ADDRESS,\n",
        "CITY,\n",
        "STATE,\n",
        "ZIP,\n",
        "PRODUCT_ID,\n",
        "ORDER_QTY\n",
        "\n",
        "FROM CUSTOMER INNER JOIN CUSTOMER_ORDER\n",
        "ORDER BY ORDER_ID, CUSTOMER.CUSTOMER_ID"
      ],
      "metadata": {
        "trusted": true,
        "id": "e6xNt-Osm86Z"
      },
      "outputs": [],
      "execution_count": null
    },
    {
      "cell_type": "code",
      "source": [
        "%%sql sqlite:////content/Data/weather_stations.db\n",
        "SELECT place,\n",
        "station_location.report_code,\n",
        "state,\n",
        "zip_code,\n",
        "weather_forecaster,\n",
        "time,\n",
        "city,\n",
        "accuracy\n",
        "FROM station_location INNER JOIN report_information\n",
        "ORDER BY weather_forecaster\n",
        "LIMIT 30"
      ],
      "metadata": {
        "id": "XmTobBQg7Zvs"
      },
      "execution_count": null,
      "outputs": []
    },
    {
      "cell_type": "markdown",
      "source": [
        "**Using the ON condition to the INNER JOIN operation**"
      ],
      "metadata": {
        "id": "pvi69Fs3m86Z"
      }
    },
    {
      "cell_type": "code",
      "source": [
        "%%sql sqlite:////content/Data/rexon_metals.db\n",
        "SELECT ORDER_ID,\n",
        "CUSTOMER.CUSTOMER_ID,\n",
        "ORDER_DATE,\n",
        "SHIP_DATE,\n",
        "NAME,\n",
        "STREET_ADDRESS,\n",
        "CITY,\n",
        "STATE,\n",
        "ZIP,\n",
        "PRODUCT_ID,\n",
        "ORDER_QTY\n",
        "\n",
        "FROM CUSTOMER INNER JOIN CUSTOMER_ORDER\n",
        "ON CUSTOMER.CUSTOMER_ID = CUSTOMER_ORDER.CUSTOMER_ID"
      ],
      "metadata": {
        "trusted": true,
        "id": "hOvFL6O7m86Z"
      },
      "outputs": [],
      "execution_count": null
    },
    {
      "cell_type": "code",
      "source": [
        "%%sql sqlite:////content/Data/weather_stations.db\n",
        "SELECT place,\n",
        "station_location.report_code,\n",
        "state,\n",
        "zip_code,\n",
        "weather_forecaster,\n",
        "time,\n",
        "city,\n",
        "accuracy\n",
        "FROM station_location INNER JOIN report_information\n",
        "ON station_location.report_code = report_information.report_code"
      ],
      "metadata": {
        "id": "acZBplwQuEo2"
      },
      "execution_count": null,
      "outputs": []
    },
    {
      "cell_type": "markdown",
      "source": [
        "**Using LEFT JOIN operation**"
      ],
      "metadata": {
        "id": "3iKxHuhKm86Z"
      }
    },
    {
      "cell_type": "code",
      "source": [
        "%%sql sqlite:////content/Data/rexon_metals.db\n",
        "SELECT ORDER_ID,\n",
        "CUSTOMER.CUSTOMER_ID,\n",
        "ORDER_DATE,\n",
        "SHIP_DATE,\n",
        "NAME,\n",
        "STREET_ADDRESS,\n",
        "CITY,\n",
        "STATE,\n",
        "ZIP,\n",
        "PRODUCT_ID,\n",
        "ORDER_QTY\n",
        "\n",
        "FROM CUSTOMER LEFT JOIN CUSTOMER_ORDER\n",
        "ON CUSTOMER.CUSTOMER_ID = CUSTOMER_ORDER.CUSTOMER_ID\n",
        "ORDER BY ORDER_ID"
      ],
      "metadata": {
        "trusted": true,
        "id": "otkmB3vwm86a"
      },
      "outputs": [],
      "execution_count": null
    },
    {
      "cell_type": "code",
      "source": [
        "%%sql sqlite:////content/Data/weather_stations.db\n",
        "SELECT place,\n",
        "station_location.report_code,\n",
        "state,\n",
        "zip_code,\n",
        "weather_forecaster,\n",
        "time,\n",
        "city,\n",
        "accuracy\n",
        "FROM station_location LEFT JOIN report_information\n",
        "ON station_location.report_code = report_information.report_code"
      ],
      "metadata": {
        "trusted": true,
        "id": "0iMP6ICMm86a"
      },
      "outputs": [],
      "execution_count": null
    },
    {
      "cell_type": "markdown",
      "source": [
        "## **Using INSERT, UPDATE, and DELETE to Change the Database**"
      ],
      "metadata": {
        "id": "MBpR6C_1m86c"
      }
    },
    {
      "cell_type": "markdown",
      "source": [
        "In this section we will briefly cover making changes to our database file.\n",
        "\n",
        "The **INSERT INTO** operation will insert a row  into a specified table, here we need to supply all the necessary info for the column valuses of this new row.\n",
        "\n",
        "The **UPDATE** operation allows us to change information already in the table, usually narrowed down with other filters like **WHERE**.\n",
        "\n",
        "The **DELETE** operation allows us to remove information from our selected table."
      ],
      "metadata": {
        "id": "uZ8GWWINt3Zq"
      }
    },
    {
      "cell_type": "markdown",
      "source": [
        "**Using INSERT INTO operation**"
      ],
      "metadata": {
        "id": "34eRXqB_WmfH"
      }
    },
    {
      "cell_type": "code",
      "source": [
        "%%sql sqlite:////content/Data/weather_stations.db\n",
        "SELECT * FROM station_location"
      ],
      "metadata": {
        "id": "yzyBAKBs7p_t"
      },
      "execution_count": null,
      "outputs": []
    },
    {
      "cell_type": "code",
      "source": [
        "%%sql sqlite:////content/Data/weather_stations.db\n",
        "INSERT INTO station_location\n",
        "VALUES ('chicago', 'D6DAQR', 'illinois' , '60007');\n",
        "SELECT * FROM station_location"
      ],
      "metadata": {
        "trusted": true,
        "id": "fIPyKvCtm86c"
      },
      "outputs": [],
      "execution_count": null
    },
    {
      "cell_type": "markdown",
      "source": [
        "**Using UPDATE operation**"
      ],
      "metadata": {
        "id": "NEUtJyeAm86c"
      }
    },
    {
      "cell_type": "code",
      "source": [
        "%%sql\n",
        "SELECT * FROM report_information"
      ],
      "metadata": {
        "id": "Ny1UbhMF8Dab"
      },
      "execution_count": null,
      "outputs": []
    },
    {
      "cell_type": "code",
      "source": [
        "%%sql\n",
        "UPDATE report_information\n",
        "SET weather_forecaster='Juan Burns'\n",
        "WHERE city='cincinnati';\n",
        "SELECT * FROM report_information"
      ],
      "metadata": {
        "trusted": true,
        "id": "9kFKh7dYm86d"
      },
      "outputs": [],
      "execution_count": null
    },
    {
      "cell_type": "code",
      "source": [
        "%%sql\n",
        "UPDATE report_information\n",
        "SET weather_forecaster='Edward Burns'\n",
        "WHERE city='cincinnati';\n",
        "SELECT * FROM report_information"
      ],
      "metadata": {
        "trusted": true,
        "id": "CXrlwe86m86d"
      },
      "outputs": [],
      "execution_count": null
    },
    {
      "cell_type": "markdown",
      "source": [
        "**Using DELETE operation**"
      ],
      "metadata": {
        "id": "sG_5v8sBm86d"
      }
    },
    {
      "cell_type": "code",
      "source": [
        "%%sql\n",
        "DELETE FROM station_location WHERE place ='chicago';\n",
        "SELECT * FROM station_location"
      ],
      "metadata": {
        "trusted": true,
        "id": "zPKQcwSvm86d"
      },
      "outputs": [],
      "execution_count": null
    },
    {
      "cell_type": "markdown",
      "source": [
        "## **BONUS EXCERCISES**"
      ],
      "metadata": {
        "id": "l8XtDymkm86d"
      }
    },
    {
      "cell_type": "markdown",
      "source": [
        "## Bonus Exercise 1\n"
      ],
      "metadata": {
        "id": "eNKj80oam86c"
      }
    },
    {
      "cell_type": "markdown",
      "source": [
        "Write a SQL query to JOIN the 3 tables (CUSTOMER_ORDER,PRODUCT,CUSTOMER) and return columns of customer name, customer state, customer city, customer address, order date, ship date, product name, and the price. \\\n",
        "- Hint: You can perform 2 join operations in the same query. Name, state, city, and address come from the CUSTOMER table, order and ship date come from CUSTOMER_ORDER table, and product description and price come from the PRODUCT table."
      ],
      "metadata": {
        "id": "50_ALHs5W3tD"
      }
    },
    {
      "cell_type": "code",
      "source": [
        "%%sql sqlite:////content/Data/rexon_metals.db\n"
      ],
      "metadata": {
        "trusted": true,
        "id": "1ep-qA49m86c"
      },
      "outputs": [],
      "execution_count": null
    },
    {
      "cell_type": "markdown",
      "source": [
        "## Bonus Exercise 2\n",
        "Write a SQL query to join all the tables in the weather_stations database (station_data, report_information, station_location), from this merged table we want: the forecaster, state, city, wind speed, and temperature where no tornados occured and sorted chronologically.\n",
        "    \n",
        "- **Hint**: city is station_location.place"
      ],
      "metadata": {
        "id": "rxQhoAuDW7U3"
      }
    },
    {
      "cell_type": "code",
      "source": [
        "%%sql sqlite:////content/Data/weather_stations.db"
      ],
      "metadata": {
        "trusted": true,
        "id": "s6a6975mm86d"
      },
      "outputs": [],
      "execution_count": null
    },
    {
      "cell_type": "markdown",
      "source": [
        "## Bonus Exercise 3\n",
        "This exercise will select many aggregates and return them. We want to select the max precipitation and temperature, and the average report percentage of tornados, thunder, and hail. Only select rows where: 0 < percentage < 100 (exclusive). Group the data by station number and return the first 30 entries.\n",
        "    \n",
        "- **Hint**: WHERE does not support aggregate operations, try HAVING instead. Having comes after GROUP BY in use order."
      ],
      "metadata": {
        "id": "NoOU-eakszr8"
      }
    },
    {
      "cell_type": "code",
      "source": [
        "%%sql sqlite:////content/Data/weather_stations.db"
      ],
      "metadata": {
        "id": "9syhTodWs1cv"
      },
      "execution_count": null,
      "outputs": []
    }
  ]
}