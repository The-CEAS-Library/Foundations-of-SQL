{
  "metadata": {
    "kernelspec": {
      "name": "SQLite",
      "display_name": "SQLite",
      "language": "sql"
    },
    "language_info": {
      "codemirror_mode": "sql",
      "file_extension": "",
      "mimetype": "",
      "name": "sql",
      "version": "3.32.3"
    },
    "colab": {
      "provenance": []
    }
  },
  "nbformat_minor": 0,
  "nbformat": 4,
  "cells": [
    {
      "cell_type": "markdown",
      "source": [
        "# **Objectives**\n",
        "- [Introduction to SQL](#scrollTo=sjb4WKgc9Umy)\n",
        "- [Math Operations](#scrollTo=LQ1jxshHm86L)\n",
        "- **Hands-on**\n",
        "    - [SELECT statements](#scrollTo=FtydZoQUm86M)\n",
        "    - [Working with dates](#scrollTo=phuBuwkmm86Q)\n",
        "    - [WHERE filtering](#scrollTo=KObC7RXvm86S)\n",
        "        - Numeric\n",
        "        - Textual\n",
        "        - Boolean\n",
        "    - [Aggregate FIltering](#scrollTo=zNmex2QFm86X)\n",
        "        - GROUP BY\n",
        "        - ORDER BY\n",
        "        - HAVING\n",
        "    - [Using JOIN](#scrollTo=T0vEpQ6tm86Z)\n",
        "        - INNER JOIN\n",
        "        - OUTER JOIN\n",
        "    - [Changing our Database](#scrollTo=MBpR6C_1m86c)"
      ],
      "metadata": {
        "tags": [],
        "editable": true,
        "id": "5S7DyDOHm86D"
      }
    },
    {
      "cell_type": "markdown",
      "source": [
        "## **Using Google Colab and Jupyter Notebooks**\n",
        "\n"
      ],
      "metadata": {
        "id": "PyxPqC4fFOSz"
      }
    },
    {
      "cell_type": "markdown",
      "source": [
        "### Using Google Colab\n",
        "- If you hover over the center in the notebook panel, at the top or bottom of the section you can see '**+ code**' and '**+ text**'. Click '+ Code' to add a new code cell or '+ text' to add a markdown text cell. To run a code cell hit the play button on the left side that appears when you select the cell. Try making cells to leave yourself notes.\n",
        "- When accessing the colab you can change any code or text cell you want without breaking the original files. Don't be afraid to change things and expirement.\n",
        "- You can save a copy of the notebook to your google drive by accessing the File tab.\n",
        "- **This is a virtual environment. You do not need to install any physical code or programs to your computer to run or access this notebook.**\n",
        "- When running a code cell, make sure it finishes executing or that you terminate it. You can't run a second code cell when the other is still on going.\n",
        "- Most toolkits and libraries are already installed on google colab so little setup to get started is needed.\n",
        "- Google Colab supports a variety of different languages. \\\n",
        "$\\;$ \\\n",
        "\n",
        "Now try creating a code cell below and typing \"2+2\" in it, then hit play."
      ],
      "metadata": {
        "id": "J0i1HmixX6LZ"
      }
    },
    {
      "cell_type": "markdown",
      "source": [
        "## **Using a Large Language Model (LLM) as a coding tutor when learning this workshop on your own.**"
      ],
      "metadata": {
        "tags": [],
        "editable": true,
        "id": "fKzYeckgm86F"
      }
    },
    {
      "cell_type": "markdown",
      "source": [
        "\n",
        "There are several ways that a LLM can help improve your self-learning process. A LLM can be used as a coding tutor to help:\n",
        "- Explain new concepts in other words. Ask it to give basic, intermediate, or advanced explanations of coding concepts depending on your familiarity and comfort level.\n",
        "- Guide you through the exercises and explain the logic and code. If you get stuck with the exercises, you can ask the LLM to give you a step-by-step guide to the exercise so you better understand the learning objectives. For best results, be very specific with the LLM so it has the necessary context to best help you.\n",
        "- Give you more exercises. If you aren't sure you understand a concept and want to test your knowledge, ask the LLM to give additional exercises to help test your abilities and understanding. They can be coding problems, multiple choice, fill in the blank, or whatever will work best for your learning style. Be creative and get the support you want.\n",
        "\n",
        "The AI has infinite patience, so ask as many questions as you want!\n",
        "\n",
        "### **The Bolded Concepts**\n",
        "\n",
        "As you go through this workshop, you will notice **Bolded Terms** throughout. The bolded terms are the fundemental concepts that SQL programming is built upon. The key thing here is **if you see a bolded term, consider asking a LLM about it**.\n",
        "\n",
        "- Consider taking the following prompt to a LLM and adding the **bolded  term** to the end:\n",
        "  \n",
        "  `You are going to take on the role of an excellent SQL coding tutor. I'm a beginner learning to program in SQL. In simple terms, please give me an overview and explanation of the following concept:`\n",
        "\n",
        "- You can add more surrounding components to the prompts to make it more clear. For example, maybe you know another language and want ChatGPT to compare how the concept works in Python, R, or C++ to help you better understand.\n",
        "\n",
        "### **LLM Disclaimer**\n",
        "- Outputs may be inaccurate, untruthful, and otherwise misleading.\n",
        "- It may produce biased content.\n",
        "- It will not cite sources.\n",
        "  \n",
        "##### **ChatGPT Specific Disclaimer**\n",
        "\n",
        "\"ChatGPT may produce inaccurate information about people, places, or facts.\" -OpenAI\n",
        "\n",
        "- ChatGPT is not connected to the internet. (although this feature is now available with ChatGPT Plus as a beta feature)\n",
        "- It has limited knowledge of world and events after January 2022.\n",
        "\n",
        "Always use caution when interacting with LLM AI systems. Despite the large bounds in progress and capability, they are still in early versions and teams of people are working to fix short comings and mistakes each and every day. Despite how useful they can be as coding tutors, it is important to remember that their outputs should be met with a healthy amount of skepticism.thy amount of skepticism."
      ],
      "metadata": {
        "id": "PnoWeut_X2XP"
      }
    },
    {
      "cell_type": "markdown",
      "source": [
        "## **Introduction to SQL**"
      ],
      "metadata": {
        "id": "sjb4WKgc9Umy"
      }
    },
    {
      "cell_type": "markdown",
      "source": [
        "### What is SQL and Why and Where is it used?\n",
        "\n"
      ],
      "metadata": {
        "id": "k1qngwAPm86H"
      }
    },
    {
      "cell_type": "markdown",
      "source": [
        "- SQL stands for Structured Query Language.\n",
        "- It was developed in the 1970s by IBM researchers Raymond Boyce and Donald Chamberlin.\n",
        "- SQL is a standard language for storing, manipulating and retrieving data in databases.\n",
        "- SQL is designed to interact with databases by defining, querying, updating, and managing the data within them.\n",
        "- SQL is used in Data Analytics, Healthcare, Marketing, Business, Government and Public services, E-commerce, Finance etc."
      ],
      "metadata": {
        "id": "Lfp1Ik0embur"
      }
    },
    {
      "cell_type": "markdown",
      "source": [
        "### Why should you learn SQL?"
      ],
      "metadata": {
        "id": "-iOd6HxfmcTv"
      }
    },
    {
      "cell_type": "markdown",
      "source": [
        "- SQL is a lucrative skill that helps in handling large databases and making informed decisions using data analysis.\n",
        "- It can be utilized to open up many career paths in both businesses and IT.\n",
        "- In Businesses it helps in performing analysis, research, making strategies, and managerial decisions.\n",
        "- In Technology it helps in data analysis, database management, software management, and Project management etc.\n",
        "- It's a time saving skill that helps in problem solving and data processing.\n",
        "\n"
      ],
      "metadata": {
        "id": "ZfVAF1ZHmc4X"
      }
    },
    {
      "cell_type": "markdown",
      "source": [
        "### What are Databases and Relational Databases?"
      ],
      "metadata": {
        "id": "J6IQLZ8Fmi8g"
      }
    },
    {
      "cell_type": "markdown",
      "source": [
        "- Databases are collections of structured information that are stored and accessed electronically.\n",
        "- They make it easy for companies to extract, update, and analyze internal data, often by using SQL or similar languages.\n",
        "- In relational databases, the data is stored in one or more tables and each table can be viewed as a two-dimensional matrix consisting of rows and columns.\n",
        "- Rows and columns of the relational database are referred to as records and fields. The value stored at the intersection of each row and column is called a Cell."
      ],
      "metadata": {
        "id": "ZWoYWU00mlvz"
      }
    },
    {
      "cell_type": "markdown",
      "source": [
        "### []()"
      ],
      "metadata": {
        "id": "EjbP8abXmyhZ"
      }
    },
    {
      "cell_type": "markdown",
      "source": [
        "![Northwind_ERD.png](data:image/png;base64,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)"
      ],
      "metadata": {
        "id": "alz3yq5dm86I"
      }
    },
    {
      "cell_type": "markdown",
      "source": [
        "### How the tables in a relational database are related?"
      ],
      "metadata": {
        "id": "zVQTL3pem4cr"
      }
    },
    {
      "cell_type": "markdown",
      "source": [
        "- In a relational database, tables are interconnected based on the values in specific columns.\n",
        "- For instance, a row in one table can be linked to a row in another table through these column values.\n",
        "- When each row in the primary table corresponds to one or more rows in a second table, it's termed as a one-to-many relationship.\n",
        "- Typically, these relationships involve the primary key of one table and the foreign key of another.\n",
        "- A foreign key consists of one or more columns in a table that reference the primary key in another table.\n",
        "- Moreover, many-to-many relationships can be decomposed into two one-to-many relationships.\n"
      ],
      "metadata": {
        "id": "78B1M23Gm86L"
      }
    },
    {
      "cell_type": "markdown",
      "source": [
        "### Different types of Relational Database Management Systems (RDBMS)\n",
        "\n",
        "\n"
      ],
      "metadata": {
        "id": "oj2xhdwRm8sw"
      }
    },
    {
      "cell_type": "markdown",
      "source": [
        "1. Microsoft SQL Server\n",
        "    - Microsoft SQL Server is a RDBMS. It serves as a database server, storing and retrieving data as requested by other software applications using the client-server model. Microsoft SQL Server is commonly used for small to medium-sized systems\n",
        "  \n",
        "2. MySQL\n",
        "    - MySQL is a widely used open-source RDBMS in modern application development. Unlike SQL, MySQL is a software rather than a language. MySQL utilizes SQL as its query language, enabling users to define, manipulate, and retrieve data from the database using standardized syntax. MySQL is owned by Oracle.\n",
        "  \n",
        "3. SQLite\n",
        "    - SQLite is an embedded, serverless RDBMS. It functions as an in-memory open-source library with zero configuration requirements, eliminating the need for installation. With a size of less than 500kb, SQLite is remarkably lightweight compared to other database management systems. It operates as a library that applications can directly link to and use.\n",
        "\n",
        "4. PostgreSQL\n",
        "    - PostgreSQL is a powerful, open-source object-relational database system. It extends the SQL language with numerous features designed to securely store and scale complex data workloads.\n",
        "  \n",
        "5. Oracle DB\n",
        "    - Oracle Database, commonly known as Oracle DB, is a widely used RDBMS developed by Oracle Corporation. Renowned for its scalability, security, and reliability, Oracle DB is one of the most popular and powerful database systems globally."
      ],
      "metadata": {
        "id": "vlCzmYdRm9FX"
      }
    },
    {
      "cell_type": "markdown",
      "source": [
        "*In this course we are using SQLite as our Database management System. SQLite is a lightweight database and can be found on all our day-to-day appliances like different Smartphones, Smartwatches, Smart TVs, Car infotainment systems, Digital cameras, home security systems, and ATMs. It is also great for training SQL because we don't have the need to set up a server and do the configuration process.*"
      ],
      "metadata": {
        "id": "ayS78RmYm9m1"
      }
    },
    {
      "cell_type": "markdown",
      "source": [
        "## **The following cell has some required code to run to get SQL to work on this notebook so be sure to follow along!**"
      ],
      "metadata": {
        "id": "RG7T1VLbm86F"
      }
    },
    {
      "cell_type": "markdown",
      "source": [
        "'%' and '%%'' are indicators for magic functions, load_ext allows us to grab an external library not already supported and load it in for use.\n",
        "\n",
        "We use the 'npx degit' line to grab our database files from their folder location and insert them into a new folder on colab titled Data. Alternatively instead of 'Data', we  can use -f to download directly to the content folder (default location) of colab.\n",
        "\n",
        "*npx is a call to run a binary from npm, in our case degit. degit is a depth git call to clone a folder within a repository*\n",
        "\n",
        "Now that we have our databases are loaded in we use the commands on the last two lines to select the database we wish to use. The last selection is the database that is active."
      ],
      "metadata": {
        "id": "TkxGyV5YXx-n"
      }
    },
    {
      "cell_type": "code",
      "source": [
        "%load_ext sql\n",
        "!npx degit The-CEAS-Library/Foundations-of-SQL/Databases Data\n",
        "%sql sqlite:////content/Data/northwind.db"
      ],
      "metadata": {
        "trusted": true,
        "id": "VuzgEVlnm86G"
      },
      "outputs": [],
      "execution_count": null
    },
    {
      "cell_type": "markdown",
      "source": [
        "## **SQL Syntax**"
      ],
      "metadata": {
        "id": "K2wbkY7SsSrF"
      }
    },
    {
      "cell_type": "markdown",
      "source": [
        "In SQL everything is case insensitive. Meaning all commands can be typed in upper or lower case as you wish.\n",
        "In general though, the community uses full caps for statements such as **SELECT**, **FROM**, **WHERE**, **ORDER BY**, **GROUP B**Y, **JOIN**, and more.\n",
        "\n",
        "A Query is typically ended with a semicolon ';' but this is not always necessary.\n",
        "\n",
        "These statements must be used in a certain order if included in the query. \\\n",
        "The order for this is: \\\n",
        "- **SELECT**: This statement is used to retrieve data from one or more tables in a database. It's usually the first statement you write in a query. \\\n",
        "- **FROM**: This statement specifies the table or tables from which you want to retrieve the data. It follows the **SELECT** statement. \\\n",
        "- **JOIN**: This statement is used to combine rows from two or more tables based on a related column between them. It follows the **FROM** statement and precedes any **WHERE** clause. \\\n",
        "- **WHERE**: This statement filters the rows returned by specifying a condition. It allows you to retrieve only the rows that meet certain criteria. It follows the **JOIN** statement and precedes any **GROUP BY** or **HAVING** clauses. \\\n",
        "- **GROUP BY**: This statement groups the result-set by one or more columns. It's often used with aggregate functions (like SUM, COUNT, AVG, etc.) to perform calculations on groups of rows. It follows the **WHERE** statement and precedes the **HAVING** statement. \\\n",
        "- **HAVING**: This statement filters the groups returned by the **GROUP BY** clause. It's similar to the **WHERE** clause but operates on groups of rows rather than individual rows. It follows the **GROUP BY** statement. \\\n",
        "- **ORDER BY**: This statement sorts the result-set in ascending or descending order based on one or more columns. It follows the **HAVING** statement, if present. \\\n",
        "- **LIMIT**/**OFFSET**: These statements are used to limit the number of rows returned by a query or to skip a specified number of rows before returning the result-set. They are usually the last statements in a query."
      ],
      "metadata": {
        "id": "GwmQkOzymUjB"
      }
    },
    {
      "cell_type": "markdown",
      "source": [
        "## **Basic Math Operators in SQL**"
      ],
      "metadata": {
        "id": "LQ1jxshHm86L"
      }
    },
    {
      "cell_type": "markdown",
      "source": [
        "SQL uses similar math operators as other coding languages and follows order of operations just like algebra.\n",
        "\n",
        "Addition: ' **+** '"
      ],
      "metadata": {
        "id": "ibjSuLPimLHX"
      }
    },
    {
      "cell_type": "code",
      "source": [
        "%sql SELECT 2 + 3"
      ],
      "metadata": {
        "trusted": true,
        "id": "FEMJy8G1m86L"
      },
      "outputs": [],
      "execution_count": null
    },
    {
      "cell_type": "markdown",
      "source": [
        "Subtraction: ' **-** '"
      ],
      "metadata": {
        "id": "ssUCyk_sm86L"
      }
    },
    {
      "cell_type": "code",
      "source": [
        "%sql SELECT 5 - 1"
      ],
      "metadata": {
        "trusted": true,
        "id": "LSU0rbAIm86L"
      },
      "outputs": [],
      "execution_count": null
    },
    {
      "cell_type": "markdown",
      "source": [
        "Multiplication: ' **\\*** '"
      ],
      "metadata": {
        "id": "wxQ_Ezzlm86M"
      }
    },
    {
      "cell_type": "code",
      "source": [
        "%sql SELECT 2 * 8"
      ],
      "metadata": {
        "trusted": true,
        "id": "_AOnni0Rm86M"
      },
      "outputs": [],
      "execution_count": null
    },
    {
      "cell_type": "markdown",
      "source": [
        "Division: ' **/** '"
      ],
      "metadata": {
        "id": "a7rrzKWrm86M"
      }
    },
    {
      "cell_type": "code",
      "source": [
        "%sql SELECT 7 / 2, 7.0 / 2, 8/0"
      ],
      "metadata": {
        "trusted": true,
        "id": "2WzXWDVFm86M"
      },
      "outputs": [],
      "execution_count": null
    },
    {
      "cell_type": "markdown",
      "source": [
        "Modulus: ' **%** '"
      ],
      "metadata": {
        "id": "-10AcWmPm86M"
      }
    },
    {
      "cell_type": "code",
      "source": [
        "%sql SELECT 10 % 3"
      ],
      "metadata": {
        "trusted": true,
        "id": "Od3gtWGsm86M"
      },
      "outputs": [],
      "execution_count": null
    },
    {
      "cell_type": "markdown",
      "source": [
        "##**Getting information from an unfamilar database**"
      ],
      "metadata": {
        "id": "UYwnmKC3N_bl"
      }
    },
    {
      "cell_type": "markdown",
      "source": [
        "sqlite has its own ways of finding data such as a list of all the tables that differs from other versions of SQL.\n",
        "\n",
        "Specifically there is a system table that contains metadata about the database objects in the database. It stores information about tables, views, indexes, and triggers. By querying this table we can retrieve a list of the table names and more. This master table is named '**sqlite_master**'. \\\n",
        "\n",
        "Additionally, we can use **PRAGMA** statments to query info about these pieces of data within the sqlite_master table. Here we only care about the tables we are working with so we can use the following to get a information pertaining to the table: \\\n",
        "$\\;\\;\\;\\;\\;$**PRAGMA table_info('table_name')** \\\n",
        " We can further narrow this down by using a **SELECT** statement: \\\n",
        "$\\;\\;\\;\\;\\;$**SELECT name FROM PRAGMA_table_info('table_name')** \\\n",
        " Note the addition of an underscore between **PRAGMA** and table_info for use with a **SELECT** statement.\n",
        "\n"
      ],
      "metadata": {
        "id": "b7jF_ES8Q8FO"
      }
    },
    {
      "cell_type": "code",
      "source": [
        "%%sql sqlite:////content/Data/northwind.db\n",
        "SELECT name, type FROM sqlite_master WHERE type= 'table' and NAME NOT LIKE 'sqlite_%'"
      ],
      "metadata": {
        "id": "Y8OP4Pd6Q8FO"
      },
      "execution_count": null,
      "outputs": []
    },
    {
      "cell_type": "code",
      "source": [
        "%%sql\n",
        "PRAGMA table_info('Categories')"
      ],
      "metadata": {
        "id": "Z8AHdzMuQ8FO"
      },
      "execution_count": null,
      "outputs": []
    },
    {
      "cell_type": "code",
      "source": [
        "%%sql\n",
        "SELECT name FROM PRAGMA_table_info('Categories');"
      ],
      "metadata": {
        "id": "X5w1fcLxQ8FO"
      },
      "execution_count": null,
      "outputs": []
    },
    {
      "cell_type": "code",
      "source": [
        "%%sql\n",
        "SELECT name FROM PRAGMA_table_info('CustomerCustomerDemo');"
      ],
      "metadata": {
        "id": "2DsokBe6Q8FP"
      },
      "execution_count": null,
      "outputs": []
    },
    {
      "cell_type": "code",
      "source": [
        "%%sql\n",
        "SELECT name FROM PRAGMA_table_info('CustomerDemographics');"
      ],
      "metadata": {
        "id": "vlGanmtgQ8FP"
      },
      "execution_count": null,
      "outputs": []
    },
    {
      "cell_type": "code",
      "source": [
        "%%sql\n",
        "SELECT name FROM PRAGMA_table_info('Customers');"
      ],
      "metadata": {
        "id": "0PIeXVBUF4af"
      },
      "execution_count": null,
      "outputs": []
    },
    {
      "cell_type": "code",
      "source": [
        "%%sql\n",
        "SELECT name FROM PRAGMA_table_info('Employees');"
      ],
      "metadata": {
        "id": "7azb81UsF4p_"
      },
      "execution_count": null,
      "outputs": []
    },
    {
      "cell_type": "code",
      "source": [
        "%%sql\n",
        "SELECT name FROM PRAGMA_table_info('EmployeeTerritories');"
      ],
      "metadata": {
        "id": "QwSwkFyeF4vh"
      },
      "execution_count": null,
      "outputs": []
    },
    {
      "cell_type": "code",
      "source": [
        "%%sql\n",
        "SELECT name FROM PRAGMA_table_info('Order Details');"
      ],
      "metadata": {
        "id": "s3lLWbQXF_eV"
      },
      "execution_count": null,
      "outputs": []
    },
    {
      "cell_type": "code",
      "source": [
        "%%sql\n",
        "SELECT name FROM PRAGMA_table_info('Orders');"
      ],
      "metadata": {
        "id": "OvMaqLNLF_jJ"
      },
      "execution_count": null,
      "outputs": []
    },
    {
      "cell_type": "code",
      "source": [
        "%%sql\n",
        "SELECT name FROM PRAGMA_table_info('Products');"
      ],
      "metadata": {
        "id": "G4IuN0w1F_nv"
      },
      "execution_count": null,
      "outputs": []
    },
    {
      "cell_type": "code",
      "source": [
        "%%sql\n",
        "SELECT name FROM PRAGMA_table_info('Regions');"
      ],
      "metadata": {
        "id": "fLmzutTYGKoC"
      },
      "execution_count": null,
      "outputs": []
    },
    {
      "cell_type": "code",
      "source": [
        "%%sql\n",
        "SELECT name FROM PRAGMA_table_info('Shippers');"
      ],
      "metadata": {
        "id": "784ndO2oGKrP"
      },
      "execution_count": null,
      "outputs": []
    },
    {
      "cell_type": "code",
      "source": [
        "%%sql\n",
        "SELECT name FROM PRAGMA_table_info('Suppliers');"
      ],
      "metadata": {
        "id": "YYUJsB-CGKvV"
      },
      "execution_count": null,
      "outputs": []
    },
    {
      "cell_type": "code",
      "source": [
        "%%sql\n",
        "SELECT name FROM PRAGMA_table_info('Territories');"
      ],
      "metadata": {
        "id": "IUyiFPAnGMev"
      },
      "execution_count": null,
      "outputs": []
    },
    {
      "cell_type": "markdown",
      "source": [
        "## **Retrieving Data with SELECT Statement**"
      ],
      "metadata": {
        "id": "FtydZoQUm86M"
      }
    },
    {
      "cell_type": "markdown",
      "source": [
        "The **SELECT** statement in SQL is used to retrieve data from one or more tables in a database. It's one of the fundamental and most commonly used statements in SQL.\\\n",
        "\\\n",
        "When selecting from a table we input the column names we wish to select. We can also choose to select all columns by using the ' **\\*** '. By using the asterisk all columns will be selected in the order they were already in, whereas if we select them individually, they will show in the order we choose as well as allowing us to perfom different opperations on each column as we need. \\\n",
        "\\\n",
        "After choosing the column(s) we wish to look at we then need to specify the name of the table we are looking at. We do this by using the **FROM** statement followed by the name of the table. \\\n",
        "\\\n",
        "Maybe there is just way too much data to parse. In that case we can use the **LIMIT** operation to limit the number of values selected. **LIMIT** will select up to that many rows, so even if not that many are available to be looked at there will be no error. \\\n",
        "\\\n",
        "We can also alter the retrieved data from the table to be displayed in a new column. We can do so by performing math operations or function calls on the column name when selecting them. After that we can use the **AS** operation to set an alias, or a new column name for the operation. \\\n",
        "\\\n",
        "Another thing to keep in mind is if you are pulling columns from multiple tables, the column names may be the same. In this case we can use dot notation to specify the table: **table_name.column_name**.\n",
        "\n"
      ],
      "metadata": {
        "id": "qRNbAINsXuBW"
      }
    },
    {
      "cell_type": "markdown",
      "source": [
        "**Retrieving specific columns from a table**"
      ],
      "metadata": {
        "id": "bFTIQsNXm86N"
      }
    },
    {
      "cell_type": "code",
      "source": [
        "%%sql sqlite:////content/Data/northwind.db\n",
        "SELECT CustomerID, CompanyName FROM CUSTOMERS"
      ],
      "metadata": {
        "id": "tNBIsTmEE2bC"
      },
      "execution_count": null,
      "outputs": []
    },
    {
      "cell_type": "markdown",
      "source": [
        "**Using LIMIT clause to view a limited number of rows**"
      ],
      "metadata": {
        "id": "jrF4h5Esm86M"
      }
    },
    {
      "cell_type": "code",
      "source": [
        "%%sql sqlite:////content/Data/northwind.db\n",
        "SELECT CustomerID, CompanyName FROM CUSTOMERS\n",
        "LIMIT 5"
      ],
      "metadata": {
        "id": "gtlIprSHJGts"
      },
      "execution_count": null,
      "outputs": []
    },
    {
      "cell_type": "code",
      "source": [
        "%%sql sqlite:////content/Data/northwind.db\n",
        "SELECT ShipperID, CompanyName FROM SHIPPERS\n",
        "LIMIT 5"
      ],
      "metadata": {
        "id": "TiKMhKF-Jbz6"
      },
      "execution_count": null,
      "outputs": []
    },
    {
      "cell_type": "markdown",
      "source": [
        "**Using SELECT statement to select data from the database. Where '*' denotes All**"
      ],
      "metadata": {
        "id": "0E8J0QwHTWPY"
      }
    },
    {
      "cell_type": "code",
      "source": [
        "%%sql sqlite:////content/Data/northwind.db\n",
        "SELECT * FROM CUSTOMERS"
      ],
      "metadata": {
        "trusted": true,
        "id": "FLDKkt34m86M"
      },
      "outputs": [],
      "execution_count": null
    },
    {
      "cell_type": "code",
      "source": [
        "%%sql sqlite:////content/Data/northwind.db\n",
        "SELECT * FROM SHIPPERS"
      ],
      "metadata": {
        "trusted": true,
        "id": "njIt5ZXlm86M"
      },
      "outputs": [],
      "execution_count": null
    },
    {
      "cell_type": "markdown",
      "source": [
        "**Adding a new column by modifying the existing column**"
      ],
      "metadata": {
        "id": "sEikNreHm86N"
      }
    },
    {
      "cell_type": "code",
      "source": [
        "%%sql sqlite:////content/Data/northwind.db\n",
        "SELECT ProductID,\n",
        "ProductName,\n",
        "UnitPrice,\n",
        "UnitPrice * 1.25\n",
        "FROM Products"
      ],
      "metadata": {
        "id": "4HUy_oyXVz1N"
      },
      "execution_count": null,
      "outputs": []
    },
    {
      "cell_type": "markdown",
      "source": [
        "**Adding a new column by modifying the existing column and applying an alias**"
      ],
      "metadata": {
        "id": "nCOc4YMJV8uG"
      }
    },
    {
      "cell_type": "code",
      "source": [
        "%%sql sqlite:////content/Data/northwind.db\n",
        "SELECT ProductID,\n",
        "ProductName,\n",
        "UnitPrice,\n",
        "UnitPrice * 1.25 AS TAXED_PRICE\n",
        "FROM Products"
      ],
      "metadata": {
        "trusted": true,
        "id": "UOiyDOLgm86N"
      },
      "outputs": [],
      "execution_count": null
    },
    {
      "cell_type": "markdown",
      "source": [
        "**Using the Round function here to decrease the number of decimals in the column**"
      ],
      "metadata": {
        "id": "YlNyjmVqm86N"
      }
    },
    {
      "cell_type": "code",
      "source": [
        "%%sql sqlite:////content/Data/northwind.db\n",
        "SELECT ProductID,\n",
        "ProductName,\n",
        "UnitPrice,\n",
        "round(UnitPrice * 1.25,2) AS TAXED_PRICE\n",
        "FROM Products"
      ],
      "metadata": {
        "trusted": true,
        "id": "2EMaSCT_m86O"
      },
      "outputs": [],
      "execution_count": null
    },
    {
      "cell_type": "markdown",
      "source": [
        "## **EXCERCISE 1**\n"
      ],
      "metadata": {
        "id": "KtwFyjumm86O"
      }
    },
    {
      "cell_type": "markdown",
      "source": [
        "Write a SQL query to select the columns from Order Details and create a new column that has the the total cost of the items. \\\n",
        "- Hint: The columns are OrderID, ProductID, UnitPrice, and Quantity.\n",
        "- Hint: The total cost can be found by multiplying the price with the quantity of products."
      ],
      "metadata": {
        "id": "VnrgwT73Xh9v"
      }
    },
    {
      "cell_type": "code",
      "source": [
        "%%sql sqlite:////content/Data/northwind.db\n"
      ],
      "metadata": {
        "trusted": true,
        "id": "pk0s1gRUm86O"
      },
      "outputs": [],
      "execution_count": null
    },
    {
      "cell_type": "markdown",
      "source": [
        "## **Working with Dates and Times**\n"
      ],
      "metadata": {
        "id": "phuBuwkmm86Q"
      }
    },
    {
      "cell_type": "markdown",
      "source": [
        "\n",
        "Sometimes you may find yourself needing to manage dates inside or outside databases.\n",
        "\n",
        "We can use the Date function to create a formatted value that we can then edit.\n",
        "\n",
        "The format for this is:\n",
        "\n",
        "$\\;\\;\\;\\;\\;$**SELECT DATE('YYYY-MM-DD', '+no.of year' , '+no.of month', '+no.of day')**\n",
        "\n",
        "You can also add and subtract times of day as text input \\\n",
        "$\\;\\;\\;\\;\\;$**SELECT TIME('HH:MM:SS.SS', '+no.of hour', '+no,of minute', '+no.of second')**\n",
        "\n",
        "You may also find yourself wishing to find the number of days between two dates.We can use the JULIANDAY function to perform this operation. By using Julianday we convert the date into a number of days format so that the operation is that much easier to perform. The result of this operation will be a float. \\\n",
        "$\\;\\;\\;\\;\\;$**SELECT JULIANDAY('YYYY-MM-DD') - JULIANDAY('YYYY-MM-DD')**"
      ],
      "metadata": {
        "id": "GyPKoCDeXe7v"
      }
    },
    {
      "cell_type": "markdown",
      "source": [
        "**Finding the Date now**"
      ],
      "metadata": {
        "id": "5nsCF1CwSGZH"
      }
    },
    {
      "cell_type": "code",
      "source": [
        "%%sql\n",
        "SELECT DATE('now')"
      ],
      "metadata": {
        "trusted": true,
        "id": "kMxlyhZ2m86Q"
      },
      "outputs": [],
      "execution_count": null
    },
    {
      "cell_type": "markdown",
      "source": [
        "**Finding the Date yesterday**"
      ],
      "metadata": {
        "id": "PeMk5OpGm86Q"
      }
    },
    {
      "cell_type": "code",
      "source": [
        "%%sql\n",
        "SELECT DATE('now', '-1 day')"
      ],
      "metadata": {
        "trusted": true,
        "id": "LKKAvPAPm86Q"
      },
      "outputs": [],
      "execution_count": null
    },
    {
      "cell_type": "markdown",
      "source": [
        "**Finding the Date in Future from now**"
      ],
      "metadata": {
        "id": "JEn-dMEkm86R"
      }
    },
    {
      "cell_type": "code",
      "source": [
        "%%sql\n",
        "SELECT DATE('now','+3 month', '-1 day')"
      ],
      "metadata": {
        "trusted": true,
        "id": "cagnwSGxm86R"
      },
      "outputs": [],
      "execution_count": null
    },
    {
      "cell_type": "markdown",
      "source": [
        "**Finding the Date in Future from date in past**"
      ],
      "metadata": {
        "id": "cBaYbGB1m86R"
      }
    },
    {
      "cell_type": "code",
      "source": [
        "%%sql\n",
        "SELECT DATE('2018-12-04','+3 month', '-1 day')"
      ],
      "metadata": {
        "trusted": true,
        "id": "twAosWFtm86R"
      },
      "outputs": [],
      "execution_count": null
    },
    {
      "cell_type": "markdown",
      "source": [
        "**Finding time now in Greenwich time**"
      ],
      "metadata": {
        "id": "p3LQ6TV6m86R"
      }
    },
    {
      "cell_type": "code",
      "source": [
        "%%sql\n",
        "SELECT TIME('now')"
      ],
      "metadata": {
        "trusted": true,
        "id": "FK2GhC_Rm86R"
      },
      "outputs": [],
      "execution_count": null
    },
    {
      "cell_type": "markdown",
      "source": [
        "**Finding time difference**"
      ],
      "metadata": {
        "id": "FCQ4nLKbm86R"
      }
    },
    {
      "cell_type": "code",
      "source": [
        "%%sql\n",
        "SELECT TIME('16:30:00','-8 hours');"
      ],
      "metadata": {
        "trusted": true,
        "id": "os-OymBSm86R"
      },
      "outputs": [],
      "execution_count": null
    },
    {
      "cell_type": "markdown",
      "source": [
        "**Finding difference in days between 2 columns using JULIANDAY**"
      ],
      "metadata": {
        "id": "OkRB33r1m86R"
      }
    },
    {
      "cell_type": "code",
      "source": [
        "%%sql sqlite:////content/Data/northwind.db\n",
        "SELECT OrderDate, ShippedDate,\n",
        "(JULIANDAY(ShippedDate) - JULIANDAY(OrderDate)) AS time_to_ship\n",
        "FROM Orders\n",
        "LIMIT 30"
      ],
      "metadata": {
        "trusted": true,
        "id": "3C_7Gjtzm86R"
      },
      "outputs": [],
      "execution_count": null
    },
    {
      "cell_type": "markdown",
      "source": [
        "## **EXCERCISE 2**"
      ],
      "metadata": {
        "id": "4qGvw3otm86R"
      }
    },
    {
      "cell_type": "markdown",
      "source": [
        "Write a SQL query to find the present date by adding your AGE in years, months, and days to your birthyear.\n",
        "\n",
        "- **Hint**: SELECT DATE('YYYY-MM-DD','+AGE year' ,'+no.of month','+no.of day')"
      ],
      "metadata": {
        "id": "vSrcW583XbJf"
      }
    },
    {
      "cell_type": "code",
      "source": [
        "%%sql sqlite:////content/Data/northwind.db\n"
      ],
      "metadata": {
        "trusted": true,
        "id": "tnKtd-JHm86S"
      },
      "outputs": [],
      "execution_count": null
    },
    {
      "cell_type": "markdown",
      "source": [
        "## **Filtering Data using WHERE Statement**\n"
      ],
      "metadata": {
        "id": "KObC7RXvm86S"
      }
    },
    {
      "cell_type": "markdown",
      "source": [
        "In this section we will cover the **WHERE** statement. \\\n",
        "\n",
        "Using the **WHERE** statement we can retrieve data that matches certain conditions be it numerical, textual, or a boolean. This will decide which rows are selected before any kind of grouping is applied to them. Aggregate filters can not be used with **WHERE**. \\\n",
        "\n",
        "While **SELECT** filtered which columns we wanted, **WHERE** will filter the rows we want.\n",
        "\n",
        "As mentioned earlier this **WHERE** statement will come after the **FROM** statement.\n",
        "Here is an example: \\\n",
        "$\\;\\;\\;\\;\\;$**SELECT column_names** \\\n",
        "$\\;\\;\\;\\;\\;$**FROM table_name** \\\n",
        "$\\;\\;\\;\\;\\;$**WHERE column_name = value**\n",
        "\n",
        "Additionally we can check multiple conditions by using '**AND**' between conditions in the **WHERE** statement as well as '**BETWEEN**' to specify a range.\\\n",
        "$\\;\\;\\;\\;\\;$**WHERE column_name BETWEEN value1 AND value2**\n"
      ],
      "metadata": {
        "id": "O22ZJdbHjU0X"
      }
    },
    {
      "cell_type": "markdown",
      "source": [
        "### **Filtering using Numeric values**"
      ],
      "metadata": {
        "id": "XjiFLgdPm86S"
      }
    },
    {
      "cell_type": "markdown",
      "source": [
        "When filtering by numeric values we can do inequalities or normal equations for our condition. \\\n",
        "The supported operations are: \\\n",
        "- Greater Than '**>**' \\\n",
        "- Less Than '**<**' \\\n",
        "- Greater Than or Equal to '**>=**' \\\n",
        "- Less Than or Equal to '**<=**' \\\n",
        "- Equal to '**=**' \\\n",
        "- Not Equal to '**!=**'"
      ],
      "metadata": {
        "id": "Zws4wwVno6CU"
      }
    },
    {
      "cell_type": "markdown",
      "source": [
        "**Using SELECT statement to view the database**"
      ],
      "metadata": {
        "id": "qGKH-P9tTtUL"
      }
    },
    {
      "cell_type": "code",
      "source": [
        "%%sql sqlite:////content/Data/northwind.db\n",
        "SELECT * FROM Products"
      ],
      "metadata": {
        "trusted": true,
        "id": "_jWO0ao-m86S"
      },
      "outputs": [],
      "execution_count": null
    },
    {
      "cell_type": "markdown",
      "source": [
        "**Using WHERE clause in order to filter a record in a particular column**"
      ],
      "metadata": {
        "id": "2tCyxLI_m86S"
      }
    },
    {
      "cell_type": "code",
      "source": [
        "%%sql sqlite:////content/Data/northwind.db\n",
        "SELECT * FROM Products\n",
        "WHERE  UnitPrice = 18\n",
        "LIMIT 30"
      ],
      "metadata": {
        "trusted": true,
        "id": "kwrgz-2Nm86S"
      },
      "outputs": [],
      "execution_count": null
    },
    {
      "cell_type": "markdown",
      "source": [
        "**Using WHERE clause along with 'NOT' to get data other than specific records**"
      ],
      "metadata": {
        "id": "YZtP_DD-m86S"
      }
    },
    {
      "cell_type": "code",
      "source": [
        "%%sql sqlite:////content/Data/northwind.db\n",
        "SELECT * FROM Products\n",
        "WHERE  UnitPrice != 18"
      ],
      "metadata": {
        "trusted": true,
        "id": "UIIddtg9m86T"
      },
      "outputs": [],
      "execution_count": null
    },
    {
      "cell_type": "markdown",
      "source": [
        "**Using WHERE clause to filter data between a range of records**"
      ],
      "metadata": {
        "id": "yn7XBP2um86T"
      }
    },
    {
      "cell_type": "code",
      "source": [
        "%%sql sqlite:////content/Data/northwind.db\n",
        "SELECT * FROM Products\n",
        "WHERE  UnitPrice BETWEEN 15 AND 25"
      ],
      "metadata": {
        "trusted": true,
        "id": "o0WZkke7m86T"
      },
      "outputs": [],
      "execution_count": null
    },
    {
      "cell_type": "markdown",
      "source": [
        "**Using WHERE clause and less than equal signs to filter data between a range**"
      ],
      "metadata": {
        "id": "VNz5JPmnm86T"
      }
    },
    {
      "cell_type": "code",
      "source": [
        "%%sql sqlite:////content/Data/northwind.db\n",
        "SELECT * FROM Products\n",
        "WHERE  UnitPrice >= 15 AND UnitPrice <= 25"
      ],
      "metadata": {
        "trusted": true,
        "id": "oJm_lxtim86T"
      },
      "outputs": [],
      "execution_count": null
    },
    {
      "cell_type": "markdown",
      "source": [
        "**Using WHERE clause to select data from specific records in columns**"
      ],
      "metadata": {
        "id": "1N5UU20Um86T"
      }
    },
    {
      "cell_type": "code",
      "source": [
        "%%sql sqlite:////content/Data/northwind.db\n",
        "SELECT * FROM Products\n",
        "WHERE UnitPrice = 15\n",
        "OR UnitPrice = 18\n",
        "OR UnitPrice = 30\n",
        "OR UnitPrice = 40"
      ],
      "metadata": {
        "trusted": true,
        "id": "lAXPhiXYm86T"
      },
      "outputs": [],
      "execution_count": null
    },
    {
      "cell_type": "markdown",
      "source": [
        "**Using IN operator**"
      ],
      "metadata": {
        "id": "Kq4fvkHam86T"
      }
    },
    {
      "cell_type": "code",
      "source": [
        "%%sql sqlite:////content/Data/northwind.db\n",
        "SELECT * FROM Products\n",
        "WHERE UnitPrice IN (15,18,30,40)"
      ],
      "metadata": {
        "trusted": true,
        "id": "1AQmUfsbm86T"
      },
      "outputs": [],
      "execution_count": null
    },
    {
      "cell_type": "markdown",
      "source": [
        "**Using NOT IN Operation**"
      ],
      "metadata": {
        "id": "KD63RqRmm86T"
      }
    },
    {
      "cell_type": "code",
      "source": [
        "%%sql sqlite:////content/Data/northwind.db\n",
        "SELECT * FROM Products\n",
        "WHERE UnitPrice NOT IN (15,18,30,40)"
      ],
      "metadata": {
        "trusted": true,
        "id": "PR--zvaAm86U"
      },
      "outputs": [],
      "execution_count": null
    },
    {
      "cell_type": "markdown",
      "source": [
        "### **Filtering using Textual(String) Values**"
      ],
      "metadata": {
        "id": "lx22Gs_-m86U"
      }
    },
    {
      "cell_type": "markdown",
      "source": [
        "When filtering by textual values we can check to see if they equal certain values, see if the value is one of a list of values, the length of the text, or even if characters in a certain position of the text is a certain value. \\\n",
        "We can do this with the following ways: \\\n",
        "- **WHERE column_name = 'string value'** \\\n",
        "- **WHERE column_name in ('value1', 'value2', ...)** \\\n",
        "- **WHERE length(column_name) = numval** \\\n",
        "- **WHERE column_name LIKE '_A%'**\n",
        "  - The '**%**' represents any number of characters of any value. \\\n",
        "  - The '**_**' indicates a placeholder for a single character of any value.\n",
        "- **WHERE report_code REGEXP '^A.*$'**\n",
        "  - This is a string that lets you specify order of characters, which characters, and how many characters you want to look for in the column."
      ],
      "metadata": {
        "id": "8uwFrdjlqZky"
      }
    },
    {
      "cell_type": "markdown",
      "source": [
        "**Filtering Text with WHERE. Wrapping the text value with single quotes**"
      ],
      "metadata": {
        "id": "6IYWGw0NUHiF"
      }
    },
    {
      "cell_type": "code",
      "source": [
        "%%sql sqlite:////content/Data/northwind.db\n",
        "SELECT * FROM Orders\n",
        "WHERE CustomerID = 'VINET'"
      ],
      "metadata": {
        "id": "rBtSnWQNkprm"
      },
      "execution_count": null,
      "outputs": []
    },
    {
      "cell_type": "markdown",
      "source": [
        "**Filtering textual data using IN operation**"
      ],
      "metadata": {
        "id": "sUob5X7Nm86U"
      }
    },
    {
      "cell_type": "code",
      "source": [
        "%%sql sqlite:////content/Data/northwind.db\n",
        "SELECT * FROM Orders\n",
        "WHERE CustomerID IN ('VINET', 'SIMOB', 'LILAS')"
      ],
      "metadata": {
        "trusted": true,
        "id": "8ffl-AKam86U"
      },
      "outputs": [],
      "execution_count": null
    },
    {
      "cell_type": "markdown",
      "source": [
        "**Filtering data using the length function**"
      ],
      "metadata": {
        "id": "DVkGXKtOm86U"
      }
    },
    {
      "cell_type": "code",
      "source": [
        "%%sql sqlite:////content/Data/northwind.db\n",
        "SELECT * FROM Orders\n",
        "WHERE length(CustomerID) != 5"
      ],
      "metadata": {
        "trusted": true,
        "id": "eIhEKvVdm86U",
        "colab": {
          "base_uri": "https://localhost:8080/",
          "height": 57
        },
        "outputId": "122d79b4-9c4e-4bb8-d35d-ccb185ce80fb"
      },
      "outputs": [
        {
          "output_type": "stream",
          "name": "stdout",
          "text": [
            "Done.\n"
          ]
        },
        {
          "output_type": "execute_result",
          "data": {
            "text/plain": [
              "[]"
            ],
            "text/html": [
              "<table>\n",
              "    <thead>\n",
              "        <tr>\n",
              "            <th>OrderID</th>\n",
              "            <th>CustomerID</th>\n",
              "            <th>EmployeeID</th>\n",
              "            <th>OrderDate</th>\n",
              "            <th>RequiredDate</th>\n",
              "            <th>ShippedDate</th>\n",
              "            <th>ShipVia</th>\n",
              "            <th>Freight</th>\n",
              "            <th>ShipName</th>\n",
              "            <th>ShipAddress</th>\n",
              "            <th>ShipCity</th>\n",
              "            <th>ShipRegion</th>\n",
              "            <th>ShipPostalCode</th>\n",
              "            <th>ShipCountry</th>\n",
              "        </tr>\n",
              "    </thead>\n",
              "    <tbody>\n",
              "    </tbody>\n",
              "</table>"
            ]
          },
          "metadata": {},
          "execution_count": 27
        }
      ],
      "execution_count": null
    },
    {
      "cell_type": "markdown",
      "source": [
        "**Filtering data which starts with certain character example A. % represents any number of characters**"
      ],
      "metadata": {
        "id": "B4Er-tgim86U"
      }
    },
    {
      "cell_type": "code",
      "source": [
        "%%sql sqlite:////content/Data/northwind.db\n",
        "SELECT * FROM Orders\n",
        "WHERE CustomerID LIKE 'V%'"
      ],
      "metadata": {
        "trusted": true,
        "id": "7o35oWcDm86U"
      },
      "outputs": [],
      "execution_count": null
    },
    {
      "cell_type": "markdown",
      "source": [
        "**Using underscore as a placeholder for textual filtering**"
      ],
      "metadata": {
        "id": "0s0QCYjTm86U"
      }
    },
    {
      "cell_type": "code",
      "source": [
        "%%sql sqlite:////content/Data/northwind.db\n",
        "SELECT * FROM Orders\n",
        "WHERE CustomerID LIKE '_N%'"
      ],
      "metadata": {
        "trusted": true,
        "id": "pNxlOGizm86V"
      },
      "outputs": [],
      "execution_count": null
    },
    {
      "cell_type": "markdown",
      "source": [
        "**Using REGEXP operation keyword for textual filtering** \\\n",
        "- **.**: matches any character \\\n",
        "- **\\***: matches zero or more of the preceding character \\\n",
        "- **+**: matches one or more of the preceding character \\\n",
        "- **\\$**: matches the end of a string \\\n",
        "- **^**: matches the start of a String \\\n",
        "- **[abc]**: matches any of the enclosed characters \\\n",
        "- **[^abc]**: matches any character not enclosed \\\n",
        "- ex. **[A-Z]**: matches any capital alphabet letter"
      ],
      "metadata": {
        "id": "0KRWYC92m86V"
      }
    },
    {
      "cell_type": "code",
      "source": [
        "%%sql sqlite:////content/Data/northwind.db\n",
        "SELECT * FROM Orders\n",
        "WHERE CustomerID REGEXP 'V.*$'\n",
        "LIMIT 15"
      ],
      "metadata": {
        "id": "PObxTQq_8EAV"
      },
      "execution_count": null,
      "outputs": []
    },
    {
      "cell_type": "code",
      "source": [
        "%%sql sqlite:////content/Data/northwind.db\n",
        "SELECT * FROM Orders\n",
        "WHERE CustomerID REGEXP '^[B-D].*D$'\n",
        "--WHERE CustomerID LIKE 'B%D' OR CustomerID LIKE 'C%D' OR CustomerID LIKE 'D%D'\n",
        "LIMIT 15"
      ],
      "metadata": {
        "trusted": true,
        "id": "K7odxBb1m86V"
      },
      "outputs": [],
      "execution_count": null
    },
    {
      "cell_type": "markdown",
      "source": [
        "### **Filtering using Boolean Values**\n"
      ],
      "metadata": {
        "id": "HvfakrL9m86V"
      }
    },
    {
      "cell_type": "markdown",
      "source": [
        "When filtering by boolean values we can do equalities for our condition as well as check for null values. \\\n",
        "The supported operations are: \\\n",
        "- **WHERE column_name = 1** \\\n",
        "- **WHERE column_name = 0** \\\n",
        "- **WHERE column_name = TRUE** \\\n",
        "- **WHERE column_name = FALSE** \\\n",
        "- **WHERE column_name IS NULL** \\\n",
        "- **WHERE column_name IS NOT NULL** \\\n"
      ],
      "metadata": {
        "id": "ES4Yf0DSsMDa"
      }
    },
    {
      "cell_type": "markdown",
      "source": [
        "**Filtering for boolean values**"
      ],
      "metadata": {
        "id": "fRIyeEZMVDZh"
      }
    },
    {
      "cell_type": "code",
      "source": [
        "%%sql sqlite:////content/Data/northwind.db\n",
        "SELECT * FROM Products\n",
        "WHERE Discontinued = 1"
      ],
      "metadata": {
        "trusted": true,
        "id": "YahKU8-ym86V"
      },
      "outputs": [],
      "execution_count": null
    },
    {
      "cell_type": "markdown",
      "source": [
        "**Filtering for boolean values with keywords**"
      ],
      "metadata": {
        "id": "Xfn9pLghm86V"
      }
    },
    {
      "cell_type": "code",
      "source": [
        "%%sql sqlite:////content/Data/northwind.db\n",
        "SELECT * FROM Products\n",
        "WHERE Discontinued = TRUE"
      ],
      "metadata": {
        "trusted": true,
        "id": "3Eo_Cn3vm86V"
      },
      "outputs": [],
      "execution_count": null
    },
    {
      "cell_type": "markdown",
      "source": [
        "**Filtering for null values using IS operator**"
      ],
      "metadata": {
        "id": "6O1zTxT5m86V"
      }
    },
    {
      "cell_type": "code",
      "source": [
        "%%sql sqlite:////content/Data/northwind.db\n",
        "SELECT OrderID, CustomerID, ShipRegion, ShippedDate\n",
        "FROM Orders\n",
        "WHERE ShippedDate IS NULL;"
      ],
      "metadata": {
        "trusted": true,
        "id": "duCg_OYkm86V"
      },
      "outputs": [],
      "execution_count": null
    },
    {
      "cell_type": "markdown",
      "source": [
        "**Filtering for null values using IS NOT operator**"
      ],
      "metadata": {
        "id": "Ey_6xi8Om86V"
      }
    },
    {
      "cell_type": "code",
      "source": [
        "%%sql sqlite:////content/Data/northwind.db\n",
        "SELECT OrderID, CustomerID, ShipRegion, ShippedDate\n",
        "FROM Orders\n",
        "WHERE ShippedDate IS NOT NULL;"
      ],
      "metadata": {
        "id": "2vP9u82Nn29G"
      },
      "execution_count": null,
      "outputs": []
    },
    {
      "cell_type": "markdown",
      "source": [
        "**Filtering values for a column, NULL values are always going to qualify for False unless you explicitly handle them**"
      ],
      "metadata": {
        "id": "jhoDPNXNm86W"
      }
    },
    {
      "cell_type": "code",
      "source": [
        "%%sql sqlite:////content/Data/northwind.db\n",
        "SELECT SupplierID, CompanyName, Fax, Phone\n",
        "FROM Suppliers\n",
        "WHERE length(Fax) <= 15"
      ],
      "metadata": {
        "trusted": true,
        "id": "9TVzRMCkm86W"
      },
      "outputs": [],
      "execution_count": null
    },
    {
      "cell_type": "markdown",
      "source": [
        "**Filtering values for a column that include NULL values**"
      ],
      "metadata": {
        "id": "ki6X-kFlm86W"
      }
    },
    {
      "cell_type": "code",
      "source": [
        "%%sql sqlite:////content/Data/northwind.db\n",
        "SELECT SupplierID, CompanyName, Fax, Phone\n",
        "FROM Suppliers\n",
        "WHERE length(Fax) <= 15 OR Fax IS NULL"
      ],
      "metadata": {
        "trusted": true,
        "id": "reHby88Sm86W"
      },
      "outputs": [],
      "execution_count": null
    },
    {
      "cell_type": "markdown",
      "source": [
        "**Filtering values using COALESCE function by reading NULL values as another value during the comparison. Here we pass two values in this function, One is the column name and the possible value we want the NULL values to take, incase it is NULL**\n",
        "  - NOTE: The result will contain 'None' where the NULL values were detected, the coelesce function just allows the comparison to think the NULL is another value for the purpose of comparing."
      ],
      "metadata": {
        "id": "CZC6NDpzm86W"
      }
    },
    {
      "cell_type": "code",
      "source": [
        "%%sql sqlite:////content/Data/northwind.db\n",
        "SELECT SupplierID, CompanyName, Fax, Phone\n",
        "FROM Suppliers\n",
        "WHERE COALESCE(Fax, Phone) IS NOT NULL;"
      ],
      "metadata": {
        "trusted": true,
        "id": "YHxGM1FIm86W"
      },
      "outputs": [],
      "execution_count": null
    },
    {
      "cell_type": "markdown",
      "source": [
        "**Mixing AND and OR**"
      ],
      "metadata": {
        "id": "ouQxCt6Rm86W"
      }
    },
    {
      "cell_type": "markdown",
      "source": [
        "Order of operations for the Logical Operators are:\n",
        "1. NOT\n",
        "2. AND\n",
        "3. OR"
      ],
      "metadata": {
        "id": "yTT3HTHbFYYt"
      }
    },
    {
      "cell_type": "code",
      "source": [
        "%%sql sqlite:////content/Data/northwind.db\n",
        "SELECT OrderID, ShipCountry, Freight\n",
        "FROM Orders\n",
        "WHERE Freight < 100\n",
        "      OR ShipCountry = 'USA'\n",
        "      AND ShipCountry = 'Canada'"
      ],
      "metadata": {
        "id": "blZIXcjfpujN"
      },
      "execution_count": null,
      "outputs": []
    },
    {
      "cell_type": "code",
      "source": [
        "%%sql sqlite:////content/Data/northwind.db\n",
        "SELECT OrderID, ShipCountry, Freight\n",
        "FROM Orders\n",
        "WHERE (Freight < 100\n",
        "      OR ShipCountry = 'USA')\n",
        "      AND ShipCountry = 'Canada'"
      ],
      "metadata": {
        "id": "vzvmJz1ap8ve"
      },
      "execution_count": null,
      "outputs": []
    },
    {
      "cell_type": "markdown",
      "source": [
        "## **EXCERCISE 3**"
      ],
      "metadata": {
        "id": "mi1xL3b3m86W"
      }
    },
    {
      "cell_type": "markdown",
      "source": [
        "$\\;\\;\\;\\;\\;\\;\\;\\;$ a. Write a SQL query to filter products with ReorderLevel between 10 or 20. \\\n",
        "$\\;\\;\\;\\;\\;\\;\\;\\;$ b. Write a SQL query to filter all products with UnitsInStock of 10 or 20.\\\n",
        "$\\;\\;\\;\\;\\;\\;\\;\\;$ c. Write a SQL query to filter suppliers whose CustomerID starts with the letter 'L' and has an 'N' as the third letter."
      ],
      "metadata": {
        "id": "1AC_uoLMlspW"
      }
    },
    {
      "cell_type": "code",
      "source": [
        "%%sql sqlite:////content/Data/northwind.db\n"
      ],
      "metadata": {
        "trusted": true,
        "id": "aWyMAHzkm86W"
      },
      "outputs": [],
      "execution_count": null
    },
    {
      "cell_type": "code",
      "source": [
        "%%sql sqlite:////content/Data/northwind.db\n"
      ],
      "metadata": {
        "id": "5Apk-uKLOq2n"
      },
      "execution_count": null,
      "outputs": []
    },
    {
      "cell_type": "code",
      "source": [
        "%%sql sqlite:////content/Data/northwind.db\n"
      ],
      "metadata": {
        "id": "25V9rfbrOqiy"
      },
      "execution_count": null,
      "outputs": []
    },
    {
      "cell_type": "markdown",
      "source": [
        "## **Using Aggregate Functions that Reduce Data into a Single Value**"
      ],
      "metadata": {
        "id": "zNmex2QFm86X"
      }
    },
    {
      "cell_type": "markdown",
      "source": [
        "We can use various aggregate functions to condence our columns into statistical data. \\\n",
        "Some of these functions include: \\\n",
        "\n",
        "- **COUNT**: Counts the number of rows in a result set.\\\n",
        "$\\;\\;\\;\\;\\;$**SELECT COUNT(column_name) FROM table_name;**\n",
        "\n",
        "- **SUM**: Calculates the sum of values in a numeric column.\\\n",
        "$\\;\\;\\;\\;\\;$**SELECT SUM(column_name) FROM table_name;**\n",
        "\n",
        "- **AVG**: Calculates the average of values in a numeric column.\\\n",
        "$\\;\\;\\;\\;\\;$**SELECT AVG(column_name) FROM table_name;**\n",
        "\n",
        "- **MIN**: Retrieves the minimum value in a column.\\\n",
        "$\\;\\;\\;\\;\\;$**SELECT MIN(column_name) FROM table_name;**\n",
        "\n",
        "- **MAX**: Retrieves the maximum value in a column.\\\n",
        "$\\;\\;\\;\\;\\;$**SELECT MAX(column_name) FROM table_name;**\n",
        "\n",
        "\n",
        "**HAVING** comes after the **GROUP BY** clause and filters these grouped rows using aggregated values. \\\n",
        "$\\;\\;\\;\\;\\;$**HAVING SUM(column_name) > num_value**"
      ],
      "metadata": {
        "id": "nW3ho9rCtCSR"
      }
    },
    {
      "cell_type": "markdown",
      "source": [
        "**Using COUNT function to count the number of aggregate records in the table**"
      ],
      "metadata": {
        "id": "cVGJKol9VcJF"
      }
    },
    {
      "cell_type": "code",
      "source": [
        "%%sql sqlite:////content/Data/northwind.db\n",
        "SELECT COUNT(*) AS 'num products'\n",
        "FROM Products"
      ],
      "metadata": {
        "trusted": true,
        "id": "z_oJqtnvm86X"
      },
      "outputs": [],
      "execution_count": null
    },
    {
      "cell_type": "markdown",
      "source": [
        "**Refining the Filtering using WHERE to extract boolean records**"
      ],
      "metadata": {
        "id": "DwOGMv-xm86X"
      }
    },
    {
      "cell_type": "code",
      "source": [
        "%%sql sqlite:////content/Data/northwind.db\n",
        "SELECT COUNT(*) AS 'num products'\n",
        "FROM Products\n",
        "WHERE discontinued = 1"
      ],
      "metadata": {
        "trusted": true,
        "id": "x-H9jPQsm86X"
      },
      "outputs": [],
      "execution_count": null
    },
    {
      "cell_type": "markdown",
      "source": [
        "**Refining the Filtering using GROUP BY to extract count of records by year**"
      ],
      "metadata": {
        "id": "ZHOe_Y-Im86X"
      }
    },
    {
      "cell_type": "code",
      "source": [
        "%%sql sqlite:////content/Data/northwind.db\n",
        "SELECT SupplierID, COUNT(*) AS 'num products'\n",
        "FROM Products\n",
        "WHERE discontinued = 1\n",
        "GROUP BY SupplierID"
      ],
      "metadata": {
        "trusted": true,
        "id": "Z3pdCPb2m86X"
      },
      "outputs": [],
      "execution_count": null
    },
    {
      "cell_type": "markdown",
      "source": [
        "**Refining the Filtering using GROUP BY to group by multiple columns"
      ],
      "metadata": {
        "id": "AAeROlq-m86X"
      }
    },
    {
      "cell_type": "code",
      "source": [
        "%%sql sqlite:////content/Data/northwind.db\n",
        "SELECT Country, Region, City, COUNT(*) AS record_count\n",
        "FROM Suppliers\n",
        "GROUP BY Country, Region"
      ],
      "metadata": {
        "trusted": true,
        "id": "xZpTTJJOm86X"
      },
      "outputs": [],
      "execution_count": null
    },
    {
      "cell_type": "markdown",
      "source": [
        "**Refining the Filtering using GROUP BY to sort by multiple columns and ORDER BY to retrieve ordered results**"
      ],
      "metadata": {
        "id": "ecXDq-cqm86X"
      }
    },
    {
      "cell_type": "code",
      "source": [
        "%%sql sqlite:////content/Data/northwind.db\n",
        "SELECT Country, Region, City, COUNT(*) AS record_count\n",
        "FROM Suppliers\n",
        "GROUP BY Country, Region\n",
        "ORDER BY City"
      ],
      "metadata": {
        "trusted": true,
        "id": "g2RSrpNhm86X"
      },
      "outputs": [],
      "execution_count": null
    },
    {
      "cell_type": "markdown",
      "source": [
        "**Refining the Filtering using GROUP BY to sort by multiple columns and ORDER BY to retrieve ordered results with latest results first**"
      ],
      "metadata": {
        "id": "3ZivxZd6m86X"
      }
    },
    {
      "cell_type": "code",
      "source": [
        "%%sql sqlite:////content/Data/northwind.db\n",
        "SELECT Country, Region, City, COUNT(*) AS record_count\n",
        "FROM Suppliers\n",
        "GROUP BY Country, Region\n",
        "ORDER BY Country DESC, Region ASC"
      ],
      "metadata": {
        "trusted": true,
        "id": "za0Klk08m86Y"
      },
      "outputs": [],
      "execution_count": null
    },
    {
      "cell_type": "markdown",
      "source": [
        "**Filtering data using AVERAGE FUNCTION and GROUP BY**"
      ],
      "metadata": {
        "id": "Z2Y03af1m86Y"
      }
    },
    {
      "cell_type": "code",
      "source": [
        "%%sql sqlite:////content/Data/northwind.db\n",
        "SELECT round(AVG(UnitPrice), 2) AS avg_price, ReorderLevel\n",
        "FROM Products\n",
        "WHERE Discontinued = 0\n",
        "GROUP BY ReorderLevel"
      ],
      "metadata": {
        "trusted": true,
        "id": "yhHbpFTNm86Y"
      },
      "outputs": [],
      "execution_count": null
    },
    {
      "cell_type": "markdown",
      "source": [
        "**Filtering data using SUM aggregate function**"
      ],
      "metadata": {
        "id": "P-pygItnm86Y"
      }
    },
    {
      "cell_type": "code",
      "source": [
        "%%sql sqlite:////content/Data/northwind.db\n",
        "SELECT SUM(UnitsInStock) AS sum_inStock, ReorderLevel\n",
        "FROM Products\n",
        "WHERE Discontinued = 0\n",
        "GROUP BY ReorderLevel"
      ],
      "metadata": {
        "trusted": true,
        "id": "gDsrjDEXm86Y"
      },
      "outputs": [],
      "execution_count": null
    },
    {
      "cell_type": "markdown",
      "source": [
        "**Filtering data using SUM and MAX aggregate function**"
      ],
      "metadata": {
        "id": "932FAtDJm86Y"
      }
    },
    {
      "cell_type": "code",
      "source": [
        "%%sql sqlite:////content/Data/northwind.db\n",
        "SELECT SUM(UnitsInStock), MAX(UnitPrice) AS max_price, ReorderLevel\n",
        "FROM Products\n",
        "WHERE Discontinued = 0\n",
        "GROUP BY ReorderLevel"
      ],
      "metadata": {
        "trusted": true,
        "id": "cOGyT2dom86Y"
      },
      "outputs": [],
      "execution_count": null
    },
    {
      "cell_type": "markdown",
      "source": [
        "**Filtering data using MIN and MAX aggregate function**"
      ],
      "metadata": {
        "id": "MXSikQ-Rm86Y"
      }
    },
    {
      "cell_type": "code",
      "source": [
        "%%sql sqlite:////content/Data/northwind.db\n",
        "SELECT SUM(UnitsInStock), MIN(UnitPrice) AS min_price, MAX(UnitPrice) AS max_price, ReorderLevel\n",
        "FROM Products\n",
        "WHERE Discontinued = 0\n",
        "GROUP BY ReorderLevel"
      ],
      "metadata": {
        "trusted": true,
        "id": "g8O_EOKQm86Y"
      },
      "outputs": [],
      "execution_count": null
    },
    {
      "cell_type": "markdown",
      "source": [
        "**Using CASE expression to add another column to the data table**"
      ],
      "metadata": {
        "id": "rOG4my4Am86Y"
      }
    },
    {
      "cell_type": "code",
      "source": [
        "%%sql sqlite:////content/Data/northwind.db\n",
        "SELECT ProductID, ProductName, UnitPrice,\n",
        "       CASE\n",
        "           WHEN UnitPrice < 10 THEN 'Low'\n",
        "           WHEN UnitPrice BETWEEN 10 AND 30 THEN 'Medium'\n",
        "           WHEN UnitPrice Between 30 AND 50 THEN 'High'\n",
        "           ELSE 'Very High'\n",
        "       END AS PriceCategory\n",
        "FROM Products\n",
        "ORDER BY UnitPrice;"
      ],
      "metadata": {
        "id": "5EgtCzHn7F0d"
      },
      "execution_count": null,
      "outputs": []
    },
    {
      "cell_type": "markdown",
      "source": [
        "**Using HAVING to further filter our query**"
      ],
      "metadata": {
        "id": "g-Zv-wcmXBoP"
      }
    },
    {
      "cell_type": "code",
      "source": [
        "%%sql sqlite:////content/Data/northwind.db\n",
        "SELECT SUM(UnitPrice), MIN(UnitPrice) AS min_price, MAX(UnitPrice) AS max_price, ReorderLevel\n",
        "FROM Products\n",
        "WHERE Discontinued = 0\n",
        "GROUP BY ReorderLevel"
      ],
      "metadata": {
        "id": "pYeOgQw7Xhel"
      },
      "execution_count": null,
      "outputs": []
    },
    {
      "cell_type": "code",
      "source": [
        "%%sql sqlite:////content/Data/northwind.db\n",
        "SELECT SUM(UnitPrice), MIN(UnitPrice) AS min_price, MAX(UnitPrice) AS max_price, ReorderLevel\n",
        "FROM Products\n",
        "WHERE Discontinued = 0\n",
        "GROUP BY ReorderLevel\n",
        "HAVING SUM(UnitPrice) < 400"
      ],
      "metadata": {
        "id": "wplxxxC1XBIK"
      },
      "execution_count": null,
      "outputs": []
    },
    {
      "cell_type": "markdown",
      "source": [
        "## **EXCERCISE 4**\n",
        "\n"
      ],
      "metadata": {
        "id": "ZG5e3OxFm86Z"
      }
    },
    {
      "cell_type": "markdown",
      "source": [
        "Write an SQL Query to Select the average, minimum, and max **Freight** from countries in North America. Group them by shipper and country, then order them by country in descending order and shipper in ascending order.\n",
        "- **Hint**: Use AVG( ), MIN( ), and MAX( )\n",
        "- **Hint**: shipper = ShipVia, and country = ShipCountry\n",
        "  - You need to do multiple countries and not a continent"
      ],
      "metadata": {
        "id": "28PG5-gmWzwq"
      }
    },
    {
      "cell_type": "code",
      "source": [
        "%%sql sqlite:////content/Data/northwind.db\n"
      ],
      "metadata": {
        "trusted": true,
        "id": "OjLR1b_tm86Z"
      },
      "outputs": [],
      "execution_count": null
    },
    {
      "cell_type": "markdown",
      "source": [
        "## **Using JOIN to Combine Tables**"
      ],
      "metadata": {
        "id": "T0vEpQ6tm86Z"
      }
    },
    {
      "cell_type": "markdown",
      "source": [
        "\n",
        "**JOIN** is used to join to two tables to create a much more descriptive view of your data. In here the parent table supplies data and the child table receives data.\n",
        "\n",
        "- **INNER JOIN**: Selects records from the two tables based on a specified condition. Can use just **JOIN** instead\n",
        "      \n",
        "- **LEFT JOIN**:  Returns all rows from the left table, and the matched rows from the right table. If there are no matches, NULL values are used for the columns from the right table.\n",
        "\n",
        "If we use join without any kind of condition, SQL will assume we are **CROSS JOIN**ing. A **CROSS JOIN** will combine every possible combination into the table giving us results we may not have wanted to get. In order to specify a JOIN condition we follow the join operation with '**ON**' and a condition for them to meet. \\\n",
        "Example: \\\n",
        "$\\;\\;\\;\\;\\;$**FROM table1 (JOIN-type) table2** \\\n",
        "$\\;\\;\\;\\;\\;$**ON table1.column_name = table2.column_name**"
      ],
      "metadata": {
        "id": "5rhyNJrnVwT_"
      }
    },
    {
      "cell_type": "markdown",
      "source": [
        "**Using INNER JOIN operation without an ON condition to perform a CROSS JOIN**"
      ],
      "metadata": {
        "id": "5bhQsH17Vx0c"
      }
    },
    {
      "cell_type": "code",
      "source": [
        "%%sql sqlite:////content/Data/northwind.db\n",
        "SELECT ProductID,\n",
        "ProductName,\n",
        "Products.SupplierID,\n",
        "Suppliers.SupplierID,\n",
        "Suppliers.CompanyName,\n",
        "UnitPrice,\n",
        "UnitsInStock\n",
        "\n",
        "FROM Products INNER JOIN Suppliers\n",
        "WHERE Discontinued = 0\n",
        "ORDER BY ProductID"
      ],
      "metadata": {
        "id": "Pt8VuED5Jr9C"
      },
      "execution_count": null,
      "outputs": []
    },
    {
      "cell_type": "markdown",
      "source": [
        "**Using the ON condition to do the INNER JOIN operation**"
      ],
      "metadata": {
        "id": "pvi69Fs3m86Z"
      }
    },
    {
      "cell_type": "code",
      "source": [
        "%%sql sqlite:////content/Data/northwind.db\n",
        "SELECT ProductID,\n",
        "ProductName,\n",
        "Products.SupplierID,\n",
        "--Suppliers.SupplierID,\n",
        "Suppliers.CompanyName,\n",
        "UnitPrice,\n",
        "UnitsInStock\n",
        "\n",
        "FROM Products INNER JOIN Suppliers\n",
        "ON Products.SupplierID = Suppliers.SupplierID\n",
        "WHERE Discontinued = 0\n",
        "ORDER BY ProductID"
      ],
      "metadata": {
        "trusted": true,
        "id": "hOvFL6O7m86Z"
      },
      "outputs": [],
      "execution_count": null
    },
    {
      "cell_type": "markdown",
      "source": [
        "**Using LEFT JOIN operation**"
      ],
      "metadata": {
        "id": "3iKxHuhKm86Z"
      }
    },
    {
      "cell_type": "code",
      "source": [
        "%%sql sqlite:////content/Data/northwind.db\n",
        "SELECT Customers.CustomerID, Customers.CompanyName,\n",
        "       Orders.OrderID, Orders.OrderDate, Orders.ShipCountry\n",
        "FROM Customers\n",
        "LEFT JOIN Orders ON Customers.CustomerID = Orders.CustomerID;"
      ],
      "metadata": {
        "id": "tIQ3bVQcMAw4"
      },
      "execution_count": null,
      "outputs": []
    },
    {
      "cell_type": "code",
      "source": [
        "%%sql sqlite:////content/Data/northwind.db\n",
        "SELECT *\n",
        "FROM Customers\n",
        "LEFT JOIN CustomerCustomerDemo ON Customers.CustomerID = CustomerCustomerDemo.CustomerID"
      ],
      "metadata": {
        "id": "-q63kqNwOLO0"
      },
      "execution_count": null,
      "outputs": []
    },
    {
      "cell_type": "markdown",
      "source": [
        "## **Using INSERT, UPDATE, and DELETE to Change the Database**"
      ],
      "metadata": {
        "id": "MBpR6C_1m86c"
      }
    },
    {
      "cell_type": "markdown",
      "source": [
        "In this section we will briefly cover making changes to our database file.\n",
        "\n",
        "The **INSERT INTO** operation will insert a row  into a specified table, here we need to supply all the necessary info for the column valuses of this new row.\n",
        "\n",
        "The **UPDATE** operation allows us to change information already in the table, usually narrowed down with other filters like **WHERE**.\n",
        "\n",
        "The **DELETE** operation allows us to remove information from our selected table."
      ],
      "metadata": {
        "id": "uZ8GWWINt3Zq"
      }
    },
    {
      "cell_type": "markdown",
      "source": [
        "**Using INSERT INTO operation**"
      ],
      "metadata": {
        "id": "34eRXqB_WmfH"
      }
    },
    {
      "cell_type": "code",
      "source": [
        "%%sql sqlite:////content/Data/northwind.db\n",
        "SELECT * FROM Products\n",
        "ORDER BY ProductID DESC\n",
        "LIMIT 5"
      ],
      "metadata": {
        "id": "yzyBAKBs7p_t"
      },
      "execution_count": null,
      "outputs": []
    },
    {
      "cell_type": "code",
      "source": [
        "%%sql sqlite:////content/Data/northwind.db\n",
        "INSERT INTO Products (ProductID, ProductName, SupplierID, CategoryID, QuantityPerUnit, UnitPrice, UnitsInStock)\n",
        "VALUES (78, 'Organic Green Tea', 1, 1, '20 bags per box', 18.00, 50);\n",
        "SELECT ProductID, ProductName, SupplierID, CategoryID, QuantityPerUnit, UnitPrice, UnitsInStock FROM Products\n",
        "ORDER BY ProductID DESC\n",
        "LIMIT 5"
      ],
      "metadata": {
        "trusted": true,
        "id": "fIPyKvCtm86c"
      },
      "outputs": [],
      "execution_count": null
    },
    {
      "cell_type": "markdown",
      "source": [
        "**Using UPDATE operation**"
      ],
      "metadata": {
        "id": "NEUtJyeAm86c"
      }
    },
    {
      "cell_type": "code",
      "source": [
        "%%sql sqlite:////content/Data/northwind.db\n",
        "SELECT * FROM Customers\n",
        "WHERE CustomerID = 'ALFKI'"
      ],
      "metadata": {
        "id": "Ny1UbhMF8Dab"
      },
      "execution_count": null,
      "outputs": []
    },
    {
      "cell_type": "code",
      "source": [
        "%%sql sqlite:////content/Data/northwind.db\n",
        "UPDATE Customers\n",
        "SET ContactName = 'John Smith'\n",
        "WHERE CustomerID = 'ALFKI';\n",
        "SELECT * FROM Customers\n",
        "WHERE CustomerID = 'ALFKI'"
      ],
      "metadata": {
        "id": "I4N5BRVgSO9K"
      },
      "execution_count": null,
      "outputs": []
    },
    {
      "cell_type": "code",
      "source": [
        "%%sql sqlite:////content/Data/northwind.db\n",
        "UPDATE Customers\n",
        "SET ContactName = 'Maria Anders'\n",
        "WHERE CustomerID = 'ALFKI';\n",
        "SELECT * FROM Customers\n",
        "WHERE CustomerID = 'ALFKI'"
      ],
      "metadata": {
        "trusted": true,
        "id": "9kFKh7dYm86d"
      },
      "outputs": [],
      "execution_count": null
    },
    {
      "cell_type": "markdown",
      "source": [
        "**Using DELETE operation**"
      ],
      "metadata": {
        "id": "sG_5v8sBm86d"
      }
    },
    {
      "cell_type": "code",
      "source": [
        "%%sql sqlite:////content/Data/northwind.db\n",
        "DELETE FROM Products\n",
        "WHERE ProductName ='Organic Green Tea';\n",
        "SELECT ProductID, ProductName, SupplierID, CategoryID, QuantityPerUnit, UnitPrice, UnitsInStock FROM Products\n",
        "ORDER BY ProductID DESC\n",
        "LIMIT 5"
      ],
      "metadata": {
        "trusted": true,
        "id": "zPKQcwSvm86d"
      },
      "outputs": [],
      "execution_count": null
    }
  ]
}